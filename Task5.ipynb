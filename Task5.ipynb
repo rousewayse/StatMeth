{
 "cells": [
  {
   "cell_type": "markdown",
   "id": "2be2b1c6",
   "metadata": {},
   "source": [
    "# Задание 5\n",
    "- Шеверев Сергей Вячеславович\n",
    "- 22М-05ММ\n",
    "- Вариант 3"
   ]
  },
  {
   "cell_type": "code",
   "execution_count": 2,
   "id": "de620702",
   "metadata": {},
   "outputs": [],
   "source": [
    "import numpy as np\n",
    "import pandas as pd \n",
    "import matplotlib.pyplot as plt\n",
    "import scipy.stats\n"
   ]
  },
  {
   "cell_type": "code",
   "execution_count": 3,
   "id": "78cbea0a",
   "metadata": {},
   "outputs": [
    {
     "data": {
      "application/javascript": [
       "IPython.OutputArea.prototype._should_scroll = function(lines) {\n",
       "    return false;\n",
       "}\n"
      ],
      "text/plain": [
       "<IPython.core.display.Javascript object>"
      ]
     },
     "metadata": {},
     "output_type": "display_data"
    }
   ],
   "source": [
    "%%javascript\n",
    "IPython.OutputArea.prototype._should_scroll = function(lines) {\n",
    "    return false;\n",
    "}"
   ]
  },
  {
   "cell_type": "markdown",
   "id": "62e213cf",
   "metadata": {},
   "source": [
    "Считаем датасет:"
   ]
  },
  {
   "cell_type": "code",
   "execution_count": 75,
   "id": "c962a0fd",
   "metadata": {},
   "outputs": [],
   "source": [
    "df = pd.read_csv('data_big.csv')"
   ]
  },
  {
   "cell_type": "code",
   "execution_count": 76,
   "id": "cb50a001",
   "metadata": {},
   "outputs": [
    {
     "data": {
      "text/plain": [
       "121"
      ]
     },
     "execution_count": 76,
     "metadata": {},
     "output_type": "execute_result"
    }
   ],
   "source": [
    "len(df.keys())"
   ]
  },
  {
   "cell_type": "markdown",
   "id": "690f3f9f",
   "metadata": {},
   "source": [
    "В датасете 120 признаков, один из которых - это порядковый номер записи. Нам нужны наблюдения в первый день и только  качественные признаки. Поэтому отфильтруем ненужные."
   ]
  },
  {
   "cell_type": "code",
   "execution_count": 77,
   "id": "17d42b7d",
   "metadata": {},
   "outputs": [
    {
     "data": {
      "text/html": [
       "<div>\n",
       "<style scoped>\n",
       "    .dataframe tbody tr th:only-of-type {\n",
       "        vertical-align: middle;\n",
       "    }\n",
       "\n",
       "    .dataframe tbody tr th {\n",
       "        vertical-align: top;\n",
       "    }\n",
       "\n",
       "    .dataframe thead th {\n",
       "        text-align: right;\n",
       "    }\n",
       "</style>\n",
       "<table border=\"1\" class=\"dataframe\">\n",
       "  <thead>\n",
       "    <tr style=\"text-align: right;\">\n",
       "      <th></th>\n",
       "      <th>Unnamed: 0</th>\n",
       "      <th>X.1</th>\n",
       "      <th>depressed.mood.1</th>\n",
       "      <th>anxiety.1</th>\n",
       "      <th>suspiciousness.1</th>\n",
       "      <th>irritability.1</th>\n",
       "      <th>craving.to.alcohol.1</th>\n",
       "      <th>weakness.1</th>\n",
       "      <th>insomia.1</th>\n",
       "      <th>headache.1</th>\n",
       "      <th>...</th>\n",
       "      <th>combined2.9</th>\n",
       "      <th>HR.9</th>\n",
       "      <th>SBP.9</th>\n",
       "      <th>DBP.9</th>\n",
       "      <th>MBP.9</th>\n",
       "      <th>SV.9</th>\n",
       "      <th>CO.9</th>\n",
       "      <th>SI.9</th>\n",
       "      <th>CI.9</th>\n",
       "      <th>TPR.9</th>\n",
       "    </tr>\n",
       "  </thead>\n",
       "  <tbody>\n",
       "    <tr>\n",
       "      <th>0</th>\n",
       "      <td>1</td>\n",
       "      <td>1</td>\n",
       "      <td>1</td>\n",
       "      <td>1</td>\n",
       "      <td>0</td>\n",
       "      <td>1</td>\n",
       "      <td>1</td>\n",
       "      <td>1</td>\n",
       "      <td>1</td>\n",
       "      <td>0</td>\n",
       "      <td>...</td>\n",
       "      <td>0</td>\n",
       "      <td>68.0</td>\n",
       "      <td>108.0</td>\n",
       "      <td>70.0</td>\n",
       "      <td>83.0</td>\n",
       "      <td>74.0</td>\n",
       "      <td>5.0</td>\n",
       "      <td>40.0</td>\n",
       "      <td>2.7</td>\n",
       "      <td>1321.0</td>\n",
       "    </tr>\n",
       "    <tr>\n",
       "      <th>1</th>\n",
       "      <td>2</td>\n",
       "      <td>2</td>\n",
       "      <td>1</td>\n",
       "      <td>1</td>\n",
       "      <td>0</td>\n",
       "      <td>0</td>\n",
       "      <td>1</td>\n",
       "      <td>1</td>\n",
       "      <td>2</td>\n",
       "      <td>1</td>\n",
       "      <td>...</td>\n",
       "      <td>9</td>\n",
       "      <td>63.0</td>\n",
       "      <td>114.0</td>\n",
       "      <td>70.0</td>\n",
       "      <td>85.0</td>\n",
       "      <td>123.0</td>\n",
       "      <td>7.7</td>\n",
       "      <td>60.0</td>\n",
       "      <td>3.8</td>\n",
       "      <td>879.0</td>\n",
       "    </tr>\n",
       "    <tr>\n",
       "      <th>2</th>\n",
       "      <td>3</td>\n",
       "      <td>3</td>\n",
       "      <td>1</td>\n",
       "      <td>1</td>\n",
       "      <td>0</td>\n",
       "      <td>0</td>\n",
       "      <td>0</td>\n",
       "      <td>2</td>\n",
       "      <td>1</td>\n",
       "      <td>0</td>\n",
       "      <td>...</td>\n",
       "      <td>0</td>\n",
       "      <td>64.0</td>\n",
       "      <td>120.0</td>\n",
       "      <td>80.0</td>\n",
       "      <td>93.0</td>\n",
       "      <td>106.0</td>\n",
       "      <td>6.8</td>\n",
       "      <td>55.0</td>\n",
       "      <td>3.5</td>\n",
       "      <td>1098.0</td>\n",
       "    </tr>\n",
       "    <tr>\n",
       "      <th>3</th>\n",
       "      <td>4</td>\n",
       "      <td>4</td>\n",
       "      <td>2</td>\n",
       "      <td>2</td>\n",
       "      <td>0</td>\n",
       "      <td>0</td>\n",
       "      <td>0</td>\n",
       "      <td>2</td>\n",
       "      <td>0</td>\n",
       "      <td>0</td>\n",
       "      <td>...</td>\n",
       "      <td>0</td>\n",
       "      <td>56.0</td>\n",
       "      <td>124.0</td>\n",
       "      <td>90.0</td>\n",
       "      <td>101.0</td>\n",
       "      <td>90.0</td>\n",
       "      <td>5.1</td>\n",
       "      <td>43.0</td>\n",
       "      <td>2.4</td>\n",
       "      <td>1600.0</td>\n",
       "    </tr>\n",
       "    <tr>\n",
       "      <th>4</th>\n",
       "      <td>5</td>\n",
       "      <td>5</td>\n",
       "      <td>1</td>\n",
       "      <td>1</td>\n",
       "      <td>0</td>\n",
       "      <td>0</td>\n",
       "      <td>2</td>\n",
       "      <td>2</td>\n",
       "      <td>1</td>\n",
       "      <td>0</td>\n",
       "      <td>...</td>\n",
       "      <td>0</td>\n",
       "      <td>66.0</td>\n",
       "      <td>116.0</td>\n",
       "      <td>78.0</td>\n",
       "      <td>90.0</td>\n",
       "      <td>90.0</td>\n",
       "      <td>5.9</td>\n",
       "      <td>45.0</td>\n",
       "      <td>2.2</td>\n",
       "      <td>1228.0</td>\n",
       "    </tr>\n",
       "  </tbody>\n",
       "</table>\n",
       "<p>5 rows × 121 columns</p>\n",
       "</div>"
      ],
      "text/plain": [
       "   Unnamed: 0  X.1  depressed.mood.1  anxiety.1  suspiciousness.1  \\\n",
       "0           1    1                 1          1                 0   \n",
       "1           2    2                 1          1                 0   \n",
       "2           3    3                 1          1                 0   \n",
       "3           4    4                 2          2                 0   \n",
       "4           5    5                 1          1                 0   \n",
       "\n",
       "   irritability.1  craving.to.alcohol.1  weakness.1  insomia.1  headache.1  \\\n",
       "0               1                     1           1          1           0   \n",
       "1               0                     1           1          2           1   \n",
       "2               0                     0           2          1           0   \n",
       "3               0                     0           2          0           0   \n",
       "4               0                     2           2          1           0   \n",
       "\n",
       "   ...  combined2.9  HR.9  SBP.9  DBP.9  MBP.9   SV.9  CO.9  SI.9  CI.9  \\\n",
       "0  ...            0  68.0  108.0   70.0   83.0   74.0   5.0  40.0   2.7   \n",
       "1  ...            9  63.0  114.0   70.0   85.0  123.0   7.7  60.0   3.8   \n",
       "2  ...            0  64.0  120.0   80.0   93.0  106.0   6.8  55.0   3.5   \n",
       "3  ...            0  56.0  124.0   90.0  101.0   90.0   5.1  43.0   2.4   \n",
       "4  ...            0  66.0  116.0   78.0   90.0   90.0   5.9  45.0   2.2   \n",
       "\n",
       "    TPR.9  \n",
       "0  1321.0  \n",
       "1   879.0  \n",
       "2  1098.0  \n",
       "3  1600.0  \n",
       "4  1228.0  \n",
       "\n",
       "[5 rows x 121 columns]"
      ]
     },
     "execution_count": 77,
     "metadata": {},
     "output_type": "execute_result"
    }
   ],
   "source": [
    "df.head()"
   ]
  },
  {
   "cell_type": "code",
   "execution_count": 78,
   "id": "cb903742",
   "metadata": {},
   "outputs": [],
   "source": [
    "df = df [df.keys()[2:]]"
   ]
  },
  {
   "cell_type": "markdown",
   "id": "d3f37e53",
   "metadata": {},
   "source": [
    "### Задача однородности в случае двух выборок"
   ]
  },
  {
   "cell_type": "markdown",
   "id": "5fb50014",
   "metadata": {},
   "source": [
    "Имеется три градации признака головной боли в первый день (**headache.1**):"
   ]
  },
  {
   "cell_type": "code",
   "execution_count": 79,
   "id": "7f44f0de",
   "metadata": {},
   "outputs": [
    {
     "data": {
      "text/plain": [
       "array([0, 1, 2])"
      ]
     },
     "execution_count": 79,
     "metadata": {},
     "output_type": "execute_result"
    }
   ],
   "source": [
    "df['headache.1'].unique()"
   ]
  },
  {
   "cell_type": "code",
   "execution_count": 80,
   "id": "1ff20201",
   "metadata": {},
   "outputs": [
    {
     "data": {
      "text/plain": [
       "headache.1\n",
       "0    21\n",
       "1    11\n",
       "2     2\n",
       "Name: HR.1, dtype: int64"
      ]
     },
     "execution_count": 80,
     "metadata": {},
     "output_type": "execute_result"
    }
   ],
   "source": [
    "df.groupby('headache.1')['HR.1'].count()"
   ]
  },
  {
   "cell_type": "markdown",
   "id": "ccd96ae8",
   "metadata": {},
   "source": [
    "Наиболее представленной группой являются индивиды с признаком головной боли, равным 0. Объединим ячейки:"
   ]
  },
  {
   "cell_type": "code",
   "execution_count": 81,
   "id": "73edcd1d",
   "metadata": {},
   "outputs": [],
   "source": [
    "func = lambda x: 0 if x < 1 else 1\n",
    "df['headache.1'] = df['headache.1'].apply(func)"
   ]
  },
  {
   "cell_type": "markdown",
   "id": "7955cb2e",
   "metadata": {},
   "source": [
    "#### Критерий Вилкоксона"
   ]
  },
  {
   "cell_type": "code",
   "execution_count": 114,
   "id": "924739a1",
   "metadata": {},
   "outputs": [
    {
     "name": "stdout",
     "output_type": "stream",
     "text": [
      "3.622533930384992e-07\n"
     ]
    }
   ],
   "source": [
    "_, pvalue = scipy.stats.wilcoxon(df['headache.1'], df['HR.1'])\n",
    "print(pvalue)"
   ]
  },
  {
   "cell_type": "markdown",
   "id": "47622e29",
   "metadata": {},
   "source": [
    "По критерию Вилкоксона при уровне значимости 0.05 гипотеза об однородности выборок отвергается"
   ]
  },
  {
   "cell_type": "markdown",
   "id": "10243ab0",
   "metadata": {},
   "source": [
    "##### Критерий Фишера равенства дисперсий"
   ]
  },
  {
   "cell_type": "code",
   "execution_count": 98,
   "id": "e4b941f6",
   "metadata": {},
   "outputs": [],
   "source": [
    "headache0 = df[df['headache.1'] == 0][\"HR.1\"]\n",
    "headache1 = df[df['headache.1'] == 1][\"HR.1\"]"
   ]
  },
  {
   "cell_type": "code",
   "execution_count": 115,
   "id": "1693cbb0",
   "metadata": {},
   "outputs": [],
   "source": [
    "def f_test(X, Y):\n",
    "    df1 = len(X) - 1\n",
    "    df2 = len(Y) - 1\n",
    "    F = X.var()/Y.var()\n",
    "    print(X.var(), Y.var())\n",
    "    p_value = scipy.stats.f.cdf(F, df1, df2)\n",
    "    return (F, p_value)"
   ]
  },
  {
   "cell_type": "code",
   "execution_count": 116,
   "id": "c43033fc",
   "metadata": {},
   "outputs": [
    {
     "name": "stdout",
     "output_type": "stream",
     "text": [
      "329.14761904761906 354.97435897435895\n",
      "0.4255152825878085\n"
     ]
    }
   ],
   "source": [
    "_, pvalue = f_test(headache0, headache1)\n",
    "print(pvalue)"
   ]
  },
  {
   "cell_type": "markdown",
   "id": "80c97a57",
   "metadata": {},
   "source": [
    "По критерию Фишера гипотеза о равенстве дисперсий не может быть отвегнута"
   ]
  },
  {
   "cell_type": "markdown",
   "id": "1e86f231",
   "metadata": {},
   "source": [
    "#### Критерий Стьюдента равенства средних"
   ]
  },
  {
   "cell_type": "code",
   "execution_count": 121,
   "id": "5e7de14d",
   "metadata": {},
   "outputs": [
    {
     "name": "stdout",
     "output_type": "stream",
     "text": [
      "82.38095238095238 80.84615384615384\n",
      "0.814732319995233\n"
     ]
    }
   ],
   "source": [
    "_, pvalue = scipy.stats.ttest_ind(headache0, headache1)\n",
    "print(headache0.mean(), headache1.mean())\n",
    "print(pvalue)"
   ]
  },
  {
   "cell_type": "markdown",
   "id": "d048750e",
   "metadata": {},
   "source": [
    "По критерию стьюдента гипотеза о равенстве средних не может быть отвергнута"
   ]
  },
  {
   "cell_type": "markdown",
   "id": "eb23e789",
   "metadata": {},
   "source": [
    "##### Средние с ошибками среднего, медианы с интерквартильным размахом"
   ]
  },
  {
   "cell_type": "code",
   "execution_count": 132,
   "id": "f0a94b46",
   "metadata": {},
   "outputs": [
    {
     "name": "stdout",
     "output_type": "stream",
     "text": [
      "headache == 0\n",
      "Среднее 82.38095238095238+-3.959001912745777\n",
      "Медиана 83.0 с интерквартилным размахом 17.0 \n",
      "\n",
      "\n",
      "headache == 1\n",
      "Среднее 80.84615384615384+-5.0318036149126115\n",
      "Медиана 77.0 с интерквартилным размахом 18.0 \n"
     ]
    }
   ],
   "source": [
    "def params(X):\n",
    "    mean = X.mean()\n",
    "    SEM = np.sqrt(headache0.var())/np.sqrt(len(X))\n",
    "    print(f'Среднее {mean}+-{SEM}')\n",
    "    \n",
    "    iqr = scipy.stats.iqr(X)\n",
    "    median = X.median()\n",
    "    print(f\"Медиана {median} с интерквартилным размахом {iqr} \")\n",
    "\n",
    "print('headache == 0')\n",
    "params(headache0)\n",
    "print('\\n\\nheadache == 1')\n",
    "params(headache1)"
   ]
  },
  {
   "cell_type": "markdown",
   "id": "509d0b71",
   "metadata": {},
   "source": [
    "### Задача однородности в случае более двух выборок"
   ]
  },
  {
   "cell_type": "markdown",
   "id": "3ab41dfb",
   "metadata": {},
   "source": [
    "Подготовим выборки:"
   ]
  },
  {
   "cell_type": "code",
   "execution_count": 134,
   "id": "25849bd9",
   "metadata": {},
   "outputs": [
    {
     "data": {
      "text/plain": [
       "array([2, 1, 0])"
      ]
     },
     "execution_count": 134,
     "metadata": {},
     "output_type": "execute_result"
    }
   ],
   "source": [
    "df['sweating.1'].unique()"
   ]
  },
  {
   "cell_type": "code",
   "execution_count": 135,
   "id": "a1648a69",
   "metadata": {},
   "outputs": [],
   "source": [
    "sweating = [df[df[f'sweating.1'] == i][\"HR.1\"] for i in df['sweating.1'].unique()]"
   ]
  },
  {
   "cell_type": "markdown",
   "id": "4bcee8b3",
   "metadata": {},
   "source": [
    "#### Критерий Краскела-Уоллиса"
   ]
  },
  {
   "cell_type": "code",
   "execution_count": 141,
   "id": "90475185",
   "metadata": {},
   "outputs": [
    {
     "name": "stdout",
     "output_type": "stream",
     "text": [
      "0.19167580639762713\n"
     ]
    }
   ],
   "source": [
    "_, pvalue = scipy.stats.kruskal(*sweating)\n",
    "print(pvalue)"
   ]
  },
  {
   "cell_type": "markdown",
   "id": "fd4920c7",
   "metadata": {},
   "source": [
    "Гипотеза о том, что группы распределены одинакого, не может быть отвергнута по Критерию Краскела-Уоллиса"
   ]
  },
  {
   "cell_type": "markdown",
   "id": "9822d8a3",
   "metadata": {},
   "source": [
    "#### Однофакторный дисперсионный анализ"
   ]
  },
  {
   "cell_type": "code",
   "execution_count": 143,
   "id": "a6505785",
   "metadata": {},
   "outputs": [
    {
     "name": "stdout",
     "output_type": "stream",
     "text": [
      "0.08787033797293588\n"
     ]
    }
   ],
   "source": [
    "_, pvalue = scipy.stats.f_oneway(*sweating)\n",
    "print(pvalue)"
   ]
  },
  {
   "cell_type": "markdown",
   "id": "6e7fd288",
   "metadata": {},
   "source": [
    "Гипотеза о том, что между группами нет различий, не отвергается."
   ]
  },
  {
   "cell_type": "markdown",
   "id": "61640418",
   "metadata": {},
   "source": [
    "#### Критерий Тьюки"
   ]
  },
  {
   "cell_type": "code",
   "execution_count": 146,
   "id": "46bfc551",
   "metadata": {},
   "outputs": [
    {
     "name": "stdout",
     "output_type": "stream",
     "text": [
      "[[1.         0.50187212 0.07199212]\n",
      " [0.50187212 1.         0.28017433]\n",
      " [0.07199212 0.28017433 1.        ]]\n"
     ]
    }
   ],
   "source": [
    "pvalue = scipy.stats.tukey_hsd(*sweating).pvalue\n",
    "print(pvalue)\n"
   ]
  },
  {
   "cell_type": "markdown",
   "id": "3b7fb581",
   "metadata": {},
   "source": [
    "Попарные значения p-value для трех групп говорят о том, что среди групп есть значительные различия"
   ]
  },
  {
   "cell_type": "code",
   "execution_count": 148,
   "id": "56d70594",
   "metadata": {},
   "outputs": [],
   "source": [
    "import seaborn "
   ]
  },
  {
   "cell_type": "code",
   "execution_count": 151,
   "id": "199f1f33",
   "metadata": {},
   "outputs": [
    {
     "data": {
      "image/png": "[encoded data removed]",
      "text/plain": [
       "<Figure size 432x288 with 1 Axes>"
      ]
     },
     "metadata": {
      "needs_background": "light"
     },
     "output_type": "display_data"
    }
   ],
   "source": [
    "seaborn.boxplot(sweating)\n",
    "plt.show()"
   ]
  },
  {
   "cell_type": "markdown",
   "id": "b1cf687f",
   "metadata": {},
   "source": [
    "### Двухфакторый дисперсионный анализ"
   ]
  },
  {
   "cell_type": "code",
   "execution_count": 170,
   "id": "23c85741",
   "metadata": {},
   "outputs": [
    {
     "data": {
      "text/html": [
       "<div>\n",
       "<style scoped>\n",
       "    .dataframe tbody tr th:only-of-type {\n",
       "        vertical-align: middle;\n",
       "    }\n",
       "\n",
       "    .dataframe tbody tr th {\n",
       "        vertical-align: top;\n",
       "    }\n",
       "\n",
       "    .dataframe thead th {\n",
       "        text-align: right;\n",
       "    }\n",
       "</style>\n",
       "<table border=\"1\" class=\"dataframe\">\n",
       "  <thead>\n",
       "    <tr style=\"text-align: right;\">\n",
       "      <th></th>\n",
       "      <th>sum_sq</th>\n",
       "      <th>df</th>\n",
       "      <th>F</th>\n",
       "      <th>PR(&gt;F)</th>\n",
       "    </tr>\n",
       "  </thead>\n",
       "  <tbody>\n",
       "    <tr>\n",
       "      <th>C(sweating)</th>\n",
       "      <td>1558.271871</td>\n",
       "      <td>2.0</td>\n",
       "      <td>2.663359</td>\n",
       "      <td>0.087321</td>\n",
       "    </tr>\n",
       "    <tr>\n",
       "      <th>C(headache)</th>\n",
       "      <td>0.008135</td>\n",
       "      <td>1.0</td>\n",
       "      <td>0.000028</td>\n",
       "      <td>0.995830</td>\n",
       "    </tr>\n",
       "    <tr>\n",
       "      <th>C(sweating):C(headache)</th>\n",
       "      <td>1093.285155</td>\n",
       "      <td>2.0</td>\n",
       "      <td>1.868615</td>\n",
       "      <td>0.173080</td>\n",
       "    </tr>\n",
       "    <tr>\n",
       "      <th>Residual</th>\n",
       "      <td>8191.087662</td>\n",
       "      <td>28.0</td>\n",
       "      <td>NaN</td>\n",
       "      <td>NaN</td>\n",
       "    </tr>\n",
       "  </tbody>\n",
       "</table>\n",
       "</div>"
      ],
      "text/plain": [
       "                              sum_sq    df         F    PR(>F)\n",
       "C(sweating)              1558.271871   2.0  2.663359  0.087321\n",
       "C(headache)                 0.008135   1.0  0.000028  0.995830\n",
       "C(sweating):C(headache)  1093.285155   2.0  1.868615  0.173080\n",
       "Residual                 8191.087662  28.0       NaN       NaN"
      ]
     },
     "execution_count": 170,
     "metadata": {},
     "output_type": "execute_result"
    }
   ],
   "source": [
    "import statsmodels.api as sm\n",
    "from statsmodels.formula.api import ols\n",
    "data = pd.DataFrame({'headache':df['headache.1'], 'sweating':df['sweating.1'], 'HR':df['HR.1']})\n",
    "model = ols('HR ~ C(sweating) + C(headache) + C(sweating):C(headache)', data=data).fit()\n",
    "sm.stats.anova_lm(model, typ=2)"
   ]
  },
  {
   "cell_type": "markdown",
   "id": "0224cf8d",
   "metadata": {},
   "source": [
    "Факторы имеют p-value больше 0.05, что говорит о том, что факторы потливости и головной боли не имеют значимых различий с зависимой метрической переменной HR.1"
   ]
  },
  {
   "cell_type": "code",
   "execution_count": null,
   "id": "9db22e1a",
   "metadata": {},
   "outputs": [],
   "source": []
  }
 ],
 "metadata": {
  "kernelspec": {
   "display_name": "Python 3 (ipykernel)",
   "language": "python",
   "name": "python3"
  },
  "language_info": {
   "codemirror_mode": {
    "name": "ipython",
    "version": 3
   },
   "file_extension": ".py",
   "mimetype": "text/x-python",
   "name": "python",
   "nbconvert_exporter": "python",
   "pygments_lexer": "ipython3",
   "version": "3.10.8"
  }
 },
 "nbformat": 4,
 "nbformat_minor": 5
}
