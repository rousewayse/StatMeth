{
 "cells": [
  {
   "cell_type": "markdown",
   "id": "2be2b1c6",
   "metadata": {},
   "source": [
    "# Задание 5\n",
    "- Шеверев Сергей Вячеславович\n",
    "- 22М-05ММ\n",
    "- Вариант 3:\n",
    "  1) Зависимая переменная - HR.1, группирующая переменная - headache.1\n",
    "  2) Зависимая переменная - HR.1, группирующие переменные - headache.1 и sweating.1\n",
    "  \n",
    "  - Задача однородности в случае двух выборок: Проверим на предмет однородности независимых выборок метрическую переменную в зависимости от категориальной переменной по критериям Вилкоксона, Фишера равенства дисперсий и Стьюдента равенства средних. Приведем значеняи средних с ошибками среднего, медиан с интерквартильными размахом и значимости критериев.\n",
    "  - Задача однородности в случае более двух выборок: проверим на предмет однородности данные метрической переменной в зависимости от факторовпо ритерию Краскела-Уоллиса, при помощи однофакторного дисперсионного анализа. Построим бокс-плот. Применим критерий Тьюки и критерий Стьюдента с поправкой Бонферони.\n",
    "  - Выполним двухфакторный дисперсионный анализ для метрической переменной с двумя факторами.\n",
    "  "
   ]
  },
  {
   "cell_type": "code",
   "execution_count": 21,
   "id": "de620702",
   "metadata": {},
   "outputs": [],
   "source": [
    "import numpy as np\n",
    "import pandas as pd \n",
    "import matplotlib.pyplot as plt\n",
    "import scipy.stats\n"
   ]
  },
  {
   "cell_type": "code",
   "execution_count": 22,
   "id": "78cbea0a",
   "metadata": {},
   "outputs": [
    {
     "data": {
      "application/javascript": [
       "IPython.OutputArea.prototype._should_scroll = function(lines) {\n",
       "    return false;\n",
       "}\n"
      ],
      "text/plain": [
       "<IPython.core.display.Javascript object>"
      ]
     },
     "metadata": {},
     "output_type": "display_data"
    }
   ],
   "source": [
    "%%javascript\n",
    "IPython.OutputArea.prototype._should_scroll = function(lines) {\n",
    "    return false;\n",
    "}"
   ]
  },
  {
   "cell_type": "markdown",
   "id": "62e213cf",
   "metadata": {},
   "source": [
    "Считаем датасет:"
   ]
  },
  {
   "cell_type": "code",
   "execution_count": 23,
   "id": "c962a0fd",
   "metadata": {},
   "outputs": [],
   "source": [
    "df = pd.read_csv('data_big.csv')"
   ]
  },
  {
   "cell_type": "code",
   "execution_count": 24,
   "id": "cb50a001",
   "metadata": {},
   "outputs": [
    {
     "data": {
      "text/plain": [
       "121"
      ]
     },
     "execution_count": 24,
     "metadata": {},
     "output_type": "execute_result"
    }
   ],
   "source": [
    "len(df.keys())"
   ]
  },
  {
   "cell_type": "markdown",
   "id": "690f3f9f",
   "metadata": {},
   "source": [
    "В датасете 120 признаков, один из которых - это порядковый номер записи. Нам нужны наблюдения в первый день и только  качественные признаки. Поэтому отфильтруем ненужные."
   ]
  },
  {
   "cell_type": "code",
   "execution_count": 25,
   "id": "17d42b7d",
   "metadata": {},
   "outputs": [
    {
     "data": {
      "text/html": [
       "<div>\n",
       "<style scoped>\n",
       "    .dataframe tbody tr th:only-of-type {\n",
       "        vertical-align: middle;\n",
       "    }\n",
       "\n",
       "    .dataframe tbody tr th {\n",
       "        vertical-align: top;\n",
       "    }\n",
       "\n",
       "    .dataframe thead th {\n",
       "        text-align: right;\n",
       "    }\n",
       "</style>\n",
       "<table border=\"1\" class=\"dataframe\">\n",
       "  <thead>\n",
       "    <tr style=\"text-align: right;\">\n",
       "      <th></th>\n",
       "      <th>Unnamed: 0</th>\n",
       "      <th>X.1</th>\n",
       "      <th>depressed.mood.1</th>\n",
       "      <th>anxiety.1</th>\n",
       "      <th>suspiciousness.1</th>\n",
       "      <th>irritability.1</th>\n",
       "      <th>craving.to.alcohol.1</th>\n",
       "      <th>weakness.1</th>\n",
       "      <th>insomia.1</th>\n",
       "      <th>headache.1</th>\n",
       "      <th>...</th>\n",
       "      <th>combined2.9</th>\n",
       "      <th>HR.9</th>\n",
       "      <th>SBP.9</th>\n",
       "      <th>DBP.9</th>\n",
       "      <th>MBP.9</th>\n",
       "      <th>SV.9</th>\n",
       "      <th>CO.9</th>\n",
       "      <th>SI.9</th>\n",
       "      <th>CI.9</th>\n",
       "      <th>TPR.9</th>\n",
       "    </tr>\n",
       "  </thead>\n",
       "  <tbody>\n",
       "    <tr>\n",
       "      <th>0</th>\n",
       "      <td>1</td>\n",
       "      <td>1</td>\n",
       "      <td>1</td>\n",
       "      <td>1</td>\n",
       "      <td>0</td>\n",
       "      <td>1</td>\n",
       "      <td>1</td>\n",
       "      <td>1</td>\n",
       "      <td>1</td>\n",
       "      <td>0</td>\n",
       "      <td>...</td>\n",
       "      <td>0</td>\n",
       "      <td>68.0</td>\n",
       "      <td>108.0</td>\n",
       "      <td>70.0</td>\n",
       "      <td>83.0</td>\n",
       "      <td>74.0</td>\n",
       "      <td>5.0</td>\n",
       "      <td>40.0</td>\n",
       "      <td>2.7</td>\n",
       "      <td>1321.0</td>\n",
       "    </tr>\n",
       "    <tr>\n",
       "      <th>1</th>\n",
       "      <td>2</td>\n",
       "      <td>2</td>\n",
       "      <td>1</td>\n",
       "      <td>1</td>\n",
       "      <td>0</td>\n",
       "      <td>0</td>\n",
       "      <td>1</td>\n",
       "      <td>1</td>\n",
       "      <td>2</td>\n",
       "      <td>1</td>\n",
       "      <td>...</td>\n",
       "      <td>9</td>\n",
       "      <td>63.0</td>\n",
       "      <td>114.0</td>\n",
       "      <td>70.0</td>\n",
       "      <td>85.0</td>\n",
       "      <td>123.0</td>\n",
       "      <td>7.7</td>\n",
       "      <td>60.0</td>\n",
       "      <td>3.8</td>\n",
       "      <td>879.0</td>\n",
       "    </tr>\n",
       "    <tr>\n",
       "      <th>2</th>\n",
       "      <td>3</td>\n",
       "      <td>3</td>\n",
       "      <td>1</td>\n",
       "      <td>1</td>\n",
       "      <td>0</td>\n",
       "      <td>0</td>\n",
       "      <td>0</td>\n",
       "      <td>2</td>\n",
       "      <td>1</td>\n",
       "      <td>0</td>\n",
       "      <td>...</td>\n",
       "      <td>0</td>\n",
       "      <td>64.0</td>\n",
       "      <td>120.0</td>\n",
       "      <td>80.0</td>\n",
       "      <td>93.0</td>\n",
       "      <td>106.0</td>\n",
       "      <td>6.8</td>\n",
       "      <td>55.0</td>\n",
       "      <td>3.5</td>\n",
       "      <td>1098.0</td>\n",
       "    </tr>\n",
       "    <tr>\n",
       "      <th>3</th>\n",
       "      <td>4</td>\n",
       "      <td>4</td>\n",
       "      <td>2</td>\n",
       "      <td>2</td>\n",
       "      <td>0</td>\n",
       "      <td>0</td>\n",
       "      <td>0</td>\n",
       "      <td>2</td>\n",
       "      <td>0</td>\n",
       "      <td>0</td>\n",
       "      <td>...</td>\n",
       "      <td>0</td>\n",
       "      <td>56.0</td>\n",
       "      <td>124.0</td>\n",
       "      <td>90.0</td>\n",
       "      <td>101.0</td>\n",
       "      <td>90.0</td>\n",
       "      <td>5.1</td>\n",
       "      <td>43.0</td>\n",
       "      <td>2.4</td>\n",
       "      <td>1600.0</td>\n",
       "    </tr>\n",
       "    <tr>\n",
       "      <th>4</th>\n",
       "      <td>5</td>\n",
       "      <td>5</td>\n",
       "      <td>1</td>\n",
       "      <td>1</td>\n",
       "      <td>0</td>\n",
       "      <td>0</td>\n",
       "      <td>2</td>\n",
       "      <td>2</td>\n",
       "      <td>1</td>\n",
       "      <td>0</td>\n",
       "      <td>...</td>\n",
       "      <td>0</td>\n",
       "      <td>66.0</td>\n",
       "      <td>116.0</td>\n",
       "      <td>78.0</td>\n",
       "      <td>90.0</td>\n",
       "      <td>90.0</td>\n",
       "      <td>5.9</td>\n",
       "      <td>45.0</td>\n",
       "      <td>2.2</td>\n",
       "      <td>1228.0</td>\n",
       "    </tr>\n",
       "  </tbody>\n",
       "</table>\n",
       "<p>5 rows × 121 columns</p>\n",
       "</div>"
      ],
      "text/plain": [
       "   Unnamed: 0  X.1  depressed.mood.1  anxiety.1  suspiciousness.1  \\\n",
       "0           1    1                 1          1                 0   \n",
       "1           2    2                 1          1                 0   \n",
       "2           3    3                 1          1                 0   \n",
       "3           4    4                 2          2                 0   \n",
       "4           5    5                 1          1                 0   \n",
       "\n",
       "   irritability.1  craving.to.alcohol.1  weakness.1  insomia.1  headache.1  \\\n",
       "0               1                     1           1          1           0   \n",
       "1               0                     1           1          2           1   \n",
       "2               0                     0           2          1           0   \n",
       "3               0                     0           2          0           0   \n",
       "4               0                     2           2          1           0   \n",
       "\n",
       "   ...  combined2.9  HR.9  SBP.9  DBP.9  MBP.9   SV.9  CO.9  SI.9  CI.9  \\\n",
       "0  ...            0  68.0  108.0   70.0   83.0   74.0   5.0  40.0   2.7   \n",
       "1  ...            9  63.0  114.0   70.0   85.0  123.0   7.7  60.0   3.8   \n",
       "2  ...            0  64.0  120.0   80.0   93.0  106.0   6.8  55.0   3.5   \n",
       "3  ...            0  56.0  124.0   90.0  101.0   90.0   5.1  43.0   2.4   \n",
       "4  ...            0  66.0  116.0   78.0   90.0   90.0   5.9  45.0   2.2   \n",
       "\n",
       "    TPR.9  \n",
       "0  1321.0  \n",
       "1   879.0  \n",
       "2  1098.0  \n",
       "3  1600.0  \n",
       "4  1228.0  \n",
       "\n",
       "[5 rows x 121 columns]"
      ]
     },
     "execution_count": 25,
     "metadata": {},
     "output_type": "execute_result"
    }
   ],
   "source": [
    "df.head()"
   ]
  },
  {
   "cell_type": "code",
   "execution_count": 26,
   "id": "cb903742",
   "metadata": {},
   "outputs": [],
   "source": [
    "df = df [df.keys()[2:]]"
   ]
  },
  {
   "cell_type": "markdown",
   "id": "d3f37e53",
   "metadata": {},
   "source": [
    "### Задача однородности в случае двух выборок"
   ]
  },
  {
   "cell_type": "markdown",
   "id": "5fb50014",
   "metadata": {},
   "source": [
    "Имеется три градации признака головной боли в первый день (**headache.1**):"
   ]
  },
  {
   "cell_type": "code",
   "execution_count": 27,
   "id": "7f44f0de",
   "metadata": {},
   "outputs": [
    {
     "data": {
      "text/plain": [
       "array([0, 1, 2])"
      ]
     },
     "execution_count": 27,
     "metadata": {},
     "output_type": "execute_result"
    }
   ],
   "source": [
    "df['headache.1'].unique()"
   ]
  },
  {
   "cell_type": "code",
   "execution_count": 28,
   "id": "1ff20201",
   "metadata": {},
   "outputs": [
    {
     "data": {
      "text/plain": [
       "headache.1\n",
       "0    21\n",
       "1    11\n",
       "2     2\n",
       "Name: HR.1, dtype: int64"
      ]
     },
     "execution_count": 28,
     "metadata": {},
     "output_type": "execute_result"
    }
   ],
   "source": [
    "df.groupby('headache.1')['HR.1'].count()"
   ]
  },
  {
   "cell_type": "markdown",
   "id": "ccd96ae8",
   "metadata": {},
   "source": [
    "Наиболее представленной группой являются индивиды с признаком головной боли, равным 0. Объединим ячейки:"
   ]
  },
  {
   "cell_type": "code",
   "execution_count": 29,
   "id": "73edcd1d",
   "metadata": {},
   "outputs": [],
   "source": [
    "func = lambda x: 0 if x < 1 else 1\n",
    "df['headache.1'] = df['headache.1'].apply(func)\n",
    "\n",
    "headache0 = df[df['headache.1'] == 0][\"HR.1\"]\n",
    "headache1 = df[df['headache.1'] == 1][\"HR.1\"]"
   ]
  },
  {
   "cell_type": "markdown",
   "id": "7955cb2e",
   "metadata": {},
   "source": [
    "#### Критерий Вилкоксона"
   ]
  },
  {
   "cell_type": "code",
   "execution_count": 30,
   "id": "924739a1",
   "metadata": {},
   "outputs": [
    {
     "name": "stdout",
     "output_type": "stream",
     "text": [
      "0.6450135373174171\n"
     ]
    }
   ],
   "source": [
    "#_, pvalue = scipy.stats.wilcoxon(df['headache.1'], df['HR.1'])\n",
    "_, pvalue = scipy.stats.ranksums(headache0, headache1)\n",
    "print(pvalue)"
   ]
  },
  {
   "cell_type": "markdown",
   "id": "47622e29",
   "metadata": {},
   "source": [
    "По критерию Вилкоксона при уровне значимости 0.05 гипотеза об однородности выборок не может быть отвергнута"
   ]
  },
  {
   "cell_type": "markdown",
   "id": "10243ab0",
   "metadata": {},
   "source": [
    "##### Критерий Фишера равенства дисперсий"
   ]
  },
  {
   "cell_type": "code",
   "execution_count": 31,
   "id": "1693cbb0",
   "metadata": {},
   "outputs": [],
   "source": [
    "def f_test(X, Y):\n",
    "    df1 = len(X) - 1\n",
    "    df2 = len(Y) - 1\n",
    "    #F = X.var()/Y.var()\n",
    "    #cause var = mean(x), where x = abs(a - a.mean())**2.\n",
    "    S2x = X.var()*len(X)/(len(X)-1)\n",
    "    S2y = Y.var()*len(Y)/(len(Y)-1)\n",
    "    F = S2x/S2y\n",
    "    print(S2x, S2y)\n",
    "    p_value = scipy.stats.f.cdf(F, df1, df2)\n",
    "    return (F, p_value)"
   ]
  },
  {
   "cell_type": "code",
   "execution_count": 32,
   "id": "c43033fc",
   "metadata": {},
   "outputs": [
    {
     "name": "stdout",
     "output_type": "stream",
     "text": [
      "345.605 384.5555555555555\n",
      "0.40215136510914884\n"
     ]
    }
   ],
   "source": [
    "_, pvalue = f_test(headache0, headache1)\n",
    "print(pvalue)"
   ]
  },
  {
   "cell_type": "markdown",
   "id": "80c97a57",
   "metadata": {},
   "source": [
    "По критерию Фишера гипотеза о равенстве дисперсий не может быть отвегнута"
   ]
  },
  {
   "cell_type": "markdown",
   "id": "1e86f231",
   "metadata": {},
   "source": [
    "#### Критерий Стьюдента равенства средних"
   ]
  },
  {
   "cell_type": "code",
   "execution_count": 33,
   "id": "5e7de14d",
   "metadata": {},
   "outputs": [
    {
     "name": "stdout",
     "output_type": "stream",
     "text": [
      "82.38095238095238 80.84615384615384\n",
      "0.814732319995233\n"
     ]
    }
   ],
   "source": [
    "_, pvalue = scipy.stats.ttest_ind(headache0, headache1)\n",
    "print(headache0.mean(), headache1.mean())\n",
    "print(pvalue)"
   ]
  },
  {
   "cell_type": "markdown",
   "id": "d048750e",
   "metadata": {},
   "source": [
    "По критерию стьюдента гипотеза о равенстве средних не может быть отвергнута\n",
    "\n",
    "**Выводы об однородности двух выборок**: представленные выше критерии не позволяют отвергнуть гипотезу об однородности выборок"
   ]
  },
  {
   "cell_type": "markdown",
   "id": "eb23e789",
   "metadata": {},
   "source": [
    "##### Средние с ошибками среднего, медианы с интерквартильным размахом"
   ]
  },
  {
   "cell_type": "code",
   "execution_count": 34,
   "id": "f0a94b46",
   "metadata": {},
   "outputs": [
    {
     "name": "stdout",
     "output_type": "stream",
     "text": [
      "headache == 0\n",
      "Среднее 82.38095238095238+-3.959001912745777\n",
      "Медиана 83.0 с интерквартилным размахом 17.0 \n",
      "\n",
      "\n",
      "headache == 1\n",
      "Среднее 80.84615384615384+-5.0318036149126115\n",
      "Медиана 77.0 с интерквартилным размахом 18.0 \n"
     ]
    }
   ],
   "source": [
    "def params(X):\n",
    "    mean = X.mean()\n",
    "    SEM = np.sqrt(headache0.var())/np.sqrt(len(X))\n",
    "    print(f'Среднее {mean}+-{SEM}')\n",
    "    \n",
    "    iqr = scipy.stats.iqr(X)\n",
    "    median = X.median()\n",
    "    print(f\"Медиана {median} с интерквартилным размахом {iqr} \")\n",
    "\n",
    "print('headache == 0')\n",
    "params(headache0)\n",
    "print('\\n\\nheadache == 1')\n",
    "params(headache1)"
   ]
  },
  {
   "cell_type": "markdown",
   "id": "509d0b71",
   "metadata": {},
   "source": [
    "### Задача однородности в случае более двух выборок"
   ]
  },
  {
   "cell_type": "markdown",
   "id": "3ab41dfb",
   "metadata": {},
   "source": [
    "Подготовим выборки:"
   ]
  },
  {
   "cell_type": "code",
   "execution_count": 35,
   "id": "25849bd9",
   "metadata": {},
   "outputs": [
    {
     "data": {
      "text/plain": [
       "array([2, 1, 0])"
      ]
     },
     "execution_count": 35,
     "metadata": {},
     "output_type": "execute_result"
    }
   ],
   "source": [
    "df['sweating.1'].unique()"
   ]
  },
  {
   "cell_type": "code",
   "execution_count": 36,
   "id": "a1648a69",
   "metadata": {},
   "outputs": [],
   "source": [
    "sweating = [df[df[f'sweating.1'] == i][\"HR.1\"] for i in df['sweating.1'].unique()]"
   ]
  },
  {
   "cell_type": "markdown",
   "id": "4bcee8b3",
   "metadata": {},
   "source": [
    "#### Критерий Краскела-Уоллиса"
   ]
  },
  {
   "cell_type": "code",
   "execution_count": 37,
   "id": "90475185",
   "metadata": {},
   "outputs": [
    {
     "name": "stdout",
     "output_type": "stream",
     "text": [
      "0.19167580639762713\n"
     ]
    }
   ],
   "source": [
    "_, pvalue = scipy.stats.kruskal(*sweating)\n",
    "print(pvalue)"
   ]
  },
  {
   "cell_type": "markdown",
   "id": "fd4920c7",
   "metadata": {},
   "source": [
    "\n",
    "Гипотеза о равенстве медиан в выборках по критерию Краскела-Уоллиса  не может быть отвергнута."
   ]
  },
  {
   "cell_type": "markdown",
   "id": "9822d8a3",
   "metadata": {},
   "source": [
    "#### Однофакторный дисперсионный анализ"
   ]
  },
  {
   "cell_type": "code",
   "execution_count": 38,
   "id": "a6505785",
   "metadata": {},
   "outputs": [
    {
     "name": "stdout",
     "output_type": "stream",
     "text": [
      "0.08787033797293588\n"
     ]
    }
   ],
   "source": [
    "_, pvalue = scipy.stats.f_oneway(*sweating)\n",
    "print(pvalue)"
   ]
  },
  {
   "cell_type": "markdown",
   "id": "6e7fd288",
   "metadata": {},
   "source": [
    "Гипотеза о том, что внутрегрупповые средние совпадают, не отвергается."
   ]
  },
  {
   "cell_type": "markdown",
   "id": "76736e77",
   "metadata": {},
   "source": [
    "**Вывод**: Есть основания предполагать, что выборки распределены одинаково"
   ]
  },
  {
   "cell_type": "markdown",
   "id": "a71699f2",
   "metadata": {},
   "source": [
    "#### Критерий Стьюдента для множественных сравнений с поправкой Бонферони"
   ]
  },
  {
   "cell_type": "code",
   "execution_count": 77,
   "id": "74db91c8",
   "metadata": {},
   "outputs": [
    {
     "name": "stdout",
     "output_type": "stream",
     "text": [
      "Множественные сравнения: \n",
      " Поправка Бонферонни: 0.016666666666666666\n",
      "\tВыборки 1 и 2 значимо не различаются; pvalue = 0.2141537013942736 > 0.016666666666666666\n",
      "\tВыборки 1 и 3 значимо не различаются; pvalue = 0.03904888251273177 > 0.016666666666666666\n",
      "\tВыборки 2 и 3 значимо не различаются; pvalue = 0.17285655990335377 > 0.016666666666666666\n"
     ]
    }
   ],
   "source": [
    "\n",
    "# поправка Бонферони\n",
    "alpha = 0.05 / len(sweating)\n",
    "print(f\"Множественные сравнения: \\n Поправка Бонферонни: {alpha}\")\n",
    "for i, si in enumerate(sweating):\n",
    "    for j, sj in enumerate(sweating[i+1:]):\n",
    "        _, pvalue = scipy.stats.ttest_ind(si, sj)\n",
    "        if pvalue < alpha:\n",
    "            print(f\"\\tВыборки {i+1} и {j+2+i} значимо различаются; pvalue = {pvalue} <= {alpha}\")\n",
    "        else: \n",
    "            print(f\"\\tВыборки {i+1} и {j+2+i} значимо не различаются; pvalue = {pvalue} > {alpha}\")"
   ]
  },
  {
   "cell_type": "markdown",
   "id": "61640418",
   "metadata": {},
   "source": [
    "#### Критерий Тьюки"
   ]
  },
  {
   "cell_type": "code",
   "execution_count": 48,
   "id": "46bfc551",
   "metadata": {},
   "outputs": [
    {
     "name": "stdout",
     "output_type": "stream",
     "text": [
      "p-value table: \n",
      " [[1.         0.50187212 0.07199212]\n",
      " [0.50187212 1.         0.28017433]\n",
      " [0.07199212 0.28017433 1.        ]]\n",
      "\n",
      "Группа 1:\n",
      "\tс группой 2 нет статистически значимых различий; pvalue = 0.5018721169062217\n",
      "\tс группой 3 нет статистически значимых различий; pvalue = 0.0719921240760194\n",
      "Группа 2:\n",
      "\tс группой 1 нет статистически значимых различий; pvalue = 0.5018721169062217\n",
      "\tс группой 3 нет статистически значимых различий; pvalue = 0.2801743292743646\n",
      "Группа 3:\n",
      "\tс группой 1 нет статистически значимых различий; pvalue = 0.0719921240760194\n",
      "\tс группой 2 нет статистически значимых различий; pvalue = 0.2801743292743646\n"
     ]
    }
   ],
   "source": [
    "pvalue = scipy.stats.tukey_hsd(*sweating).pvalue\n",
    "print('p-value table: \\n',pvalue)\n",
    "print()\n",
    "for i, x in enumerate(pvalue):\n",
    "    print(f'Группа {i+1}:')\n",
    "    for k, y in enumerate(x):\n",
    "        if i == k:\n",
    "            continue\n",
    "        print(f'\\tс группой {k+1} ' + ('есть статистические значимые различия ' if y <=0.05 else 'нет статистически значимых различий') + f'; pvalue = {y}')\n",
    "    "
   ]
  },
  {
   "cell_type": "markdown",
   "id": "3b7fb581",
   "metadata": {},
   "source": [
    "Видим, что согласно тесту Тьюки выборки между собой не различаются\n",
    "\n",
    "### Построим бокс-плот"
   ]
  },
  {
   "cell_type": "code",
   "execution_count": 148,
   "id": "56d70594",
   "metadata": {},
   "outputs": [],
   "source": [
    "import seaborn "
   ]
  },
  {
   "cell_type": "code",
   "execution_count": 151,
   "id": "199f1f33",
   "metadata": {},
   "outputs": [
    {
     "data": {
      "image/png": "[encoded data removed]",
      "text/plain": [
       "<Figure size 432x288 with 1 Axes>"
      ]
     },
     "metadata": {
      "needs_background": "light"
     },
     "output_type": "display_data"
    }
   ],
   "source": [
    "seaborn.boxplot(sweating)\n",
    "plt.show()"
   ]
  },
  {
   "cell_type": "markdown",
   "id": "b1cf687f",
   "metadata": {},
   "source": [
    "### Двухфакторый дисперсионный анализ"
   ]
  },
  {
   "cell_type": "code",
   "execution_count": 136,
   "id": "f90f3696",
   "metadata": {},
   "outputs": [],
   "source": [
    "from statsmodels.formula.api import ols\n",
    "from statsmodels.stats.anova import anova_lm, AnovaRM"
   ]
  },
  {
   "cell_type": "markdown",
   "id": "2b41fe0c",
   "metadata": {},
   "source": [
    "##### Classical ANOVA c **фиксированными** эффектами:\n",
    " - эффект фактора `sweating`\n",
    " - эффект фактора `headache`\n",
    " - эффект взаимодействия `sweating` и `headache`\n",
    " - $\\texttt{'HR ~ C(sweating) + C(headache) + C(sweating):C(headache)'} $"
   ]
  },
  {
   "cell_type": "code",
   "execution_count": 130,
   "id": "9db22e1a",
   "metadata": {},
   "outputs": [
    {
     "data": {
      "text/plain": [
       "C(sweating)                0.087321\n",
       "C(headache)                0.995830\n",
       "C(sweating):C(headache)    0.173080\n",
       "Residual                        NaN\n",
       "Name: PR(>F), dtype: float64"
      ]
     },
     "execution_count": 130,
     "metadata": {},
     "output_type": "execute_result"
    }
   ],
   "source": [
    "data = pd.DataFrame({'headache':df['headache.1'], 'sweating':df['sweating.1'], 'HR':df['HR.1']})\n",
    "#\"HR ~ C(sweating)*C(headache)\"\" also works\n",
    "model = ols('HR ~ C(sweating) + C(headache) + C(sweating):C(headache)', data=data).fit()\n",
    "fixed_effects  = sm.stats.anova_lm(model, typ=2)\n",
    "fixed_effects['PR(>F)']"
   ]
  },
  {
   "cell_type": "markdown",
   "id": "95d76506",
   "metadata": {},
   "source": [
    "Значимость всех эффектов больше 0.05, что говорит о том, что эффекты факторов по отдельности и по взаимодействию не имеют значимого различия с зависимой переменной"
   ]
  },
  {
   "cell_type": "markdown",
   "id": "51af99f1",
   "metadata": {},
   "source": [
    "##### Classical ANOVA cо **случайными** эффектами:\n",
    "\n",
    "Для моделей со случайными эффектами значимость по эффекту взаимодействия (**C(sweating):C(headache)**) остается той же, что и в модели с фиксированными эффектами, а значимость по группам считается по отношениям к сумме квадратов, связанной с эффектом взаимодействия:"
   ]
  },
  {
   "cell_type": "code",
   "execution_count": 131,
   "id": "c10c92ba",
   "metadata": {},
   "outputs": [
    {
     "data": {
      "text/plain": [
       "C(sweating)                0.412318\n",
       "C(headache)                0.998071\n",
       "C(sweating):C(headache)    0.173080\n",
       "Residual                        NaN\n",
       "Name: PR(>F), dtype: float64"
      ]
     },
     "execution_count": 131,
     "metadata": {},
     "output_type": "execute_result"
    }
   ],
   "source": [
    "\n",
    "for i in ['C(sweating)', 'C(headache)']:\n",
    "    F =  fixed_effects['sum_sq'][i]/fixed_effects['sum_sq']['C(sweating):C(headache)']\n",
    "    fixed_effects['PR(>F)'][i] = 1 - scipy.stats.f.cdf(F, fixed_effects['df'][i], fixed_effects['df']['C(sweating):C(headache)'])\n",
    "\n",
    "fixed_effects['PR(>F)']\n"
   ]
  },
  {
   "cell_type": "markdown",
   "id": "d679bce8",
   "metadata": {},
   "source": [
    "В модели со случайными эффектами заметно увеличилась значимость  эффекта фактора **sweating**: с 0.087321 до 0.412318, влияние фактора **headache** незначительно увеличилось"
   ]
  },
  {
   "cell_type": "code",
   "execution_count": null,
   "id": "51277ba9",
   "metadata": {},
   "outputs": [],
   "source": []
  }
 ],
 "metadata": {
  "kernelspec": {
   "display_name": "Python 3 (ipykernel)",
   "language": "python",
   "name": "python3"
  },
  "language_info": {
   "codemirror_mode": {
    "name": "ipython",
    "version": 3
   },
   "file_extension": ".py",
   "mimetype": "text/x-python",
   "name": "python",
   "nbconvert_exporter": "python",
   "pygments_lexer": "ipython3",
   "version": "3.10.8"
  }
 },
 "nbformat": 4,
 "nbformat_minor": 5
}
