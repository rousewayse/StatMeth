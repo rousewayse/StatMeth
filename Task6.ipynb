{
 "cells": [
  {
   "cell_type": "markdown",
   "id": "4bb9bb03",
   "metadata": {},
   "source": [
    "# Задание 6\n",
    "- Шеверев Сергей Вячеславович\n",
    "- 22М-05ММ\n",
    "- Вариант 3:\n",
    "     1) Построим корреляционную матрицу по метрическим показателям и найдем наиболее значимую корреляцию. Для этого случая построим двумерную диаграмму. Применим модель множественной регрессии для зависимой прееменной **индекс МТ детский** и зависимыми переменными:\n",
    "         - возраст\n",
    "         - рост\n",
    "         - вес \n",
    "         - имт\n",
    "         - диастолический размер левого желудочка\n",
    "         - фракция выброса.\n",
    "         \n",
    "        Определим значимость прогноза  и наиболее значимые переменные.\n",
    "  \n",
    "     2) Факторный анализ: проинтерпритируем главные компоненты, определим вклад первых двух в общую дисперсию и построим двумерную диаграмму первых двух факторов\n",
    "     3) Дискриминантный анализ: выясним возможности классификации детей с разными формами ожирения."
   ]
  },
  {
   "cell_type": "code",
   "execution_count": 109,
   "id": "1f14e02c",
   "metadata": {},
   "outputs": [],
   "source": [
    "import numpy as np\n",
    "import pandas as pd \n",
    "import matplotlib.pyplot as plt\n",
    "import scipy.stats\n"
   ]
  },
  {
   "cell_type": "code",
   "execution_count": 110,
   "id": "d900e95f",
   "metadata": {},
   "outputs": [
    {
     "data": {
      "application/javascript": [
       "IPython.OutputArea.prototype._should_scroll = function(lines) {\n",
       "    return false;\n",
       "}\n"
      ],
      "text/plain": [
       "<IPython.core.display.Javascript object>"
      ]
     },
     "metadata": {},
     "output_type": "display_data"
    }
   ],
   "source": [
    "%%javascript\n",
    "IPython.OutputArea.prototype._should_scroll = function(lines) {\n",
    "    return false;\n",
    "}"
   ]
  },
  {
   "cell_type": "markdown",
   "id": "a1c287df",
   "metadata": {},
   "source": [
    "Считаем датасет:"
   ]
  },
  {
   "cell_type": "code",
   "execution_count": 111,
   "id": "790cadd1",
   "metadata": {},
   "outputs": [],
   "source": [
    "df = pd.read_csv('dataX.csv')"
   ]
  },
  {
   "cell_type": "markdown",
   "id": "46c825c6",
   "metadata": {},
   "source": [
    "Посмотрим на датасет:"
   ]
  },
  {
   "cell_type": "code",
   "execution_count": 112,
   "id": "8909da63",
   "metadata": {},
   "outputs": [
    {
     "data": {
      "text/html": [
       "<div>\n",
       "<style scoped>\n",
       "    .dataframe tbody tr th:only-of-type {\n",
       "        vertical-align: middle;\n",
       "    }\n",
       "\n",
       "    .dataframe tbody tr th {\n",
       "        vertical-align: top;\n",
       "    }\n",
       "\n",
       "    .dataframe thead th {\n",
       "        text-align: right;\n",
       "    }\n",
       "</style>\n",
       "<table border=\"1\" class=\"dataframe\">\n",
       "  <thead>\n",
       "    <tr style=\"text-align: right;\">\n",
       "      <th></th>\n",
       "      <th>Unnamed: 0</th>\n",
       "      <th>Sex</th>\n",
       "      <th>Age</th>\n",
       "      <th>Половое.развитие..0...допубертатное..1..отставание..2...норма..3...опережение</th>\n",
       "      <th>liv</th>\n",
       "      <th>eye</th>\n",
       "      <th>sss</th>\n",
       "      <th>kidneys</th>\n",
       "      <th>OL</th>\n",
       "      <th>рост.см.</th>\n",
       "      <th>вес.кг.</th>\n",
       "      <th>ИМТ</th>\n",
       "      <th>Z.Score_Height.ageWHO</th>\n",
       "      <th>LZ_KDR</th>\n",
       "      <th>FV_Tejh</th>\n",
       "    </tr>\n",
       "  </thead>\n",
       "  <tbody>\n",
       "    <tr>\n",
       "      <th>0</th>\n",
       "      <td>1</td>\n",
       "      <td>1</td>\n",
       "      <td>13.5863</td>\n",
       "      <td>NaN</td>\n",
       "      <td>0</td>\n",
       "      <td>0</td>\n",
       "      <td>0</td>\n",
       "      <td>0</td>\n",
       "      <td>2</td>\n",
       "      <td>177.0</td>\n",
       "      <td>87.6</td>\n",
       "      <td>27.9613</td>\n",
       "      <td>2.20</td>\n",
       "      <td>NaN</td>\n",
       "      <td>NaN</td>\n",
       "    </tr>\n",
       "    <tr>\n",
       "      <th>1</th>\n",
       "      <td>2</td>\n",
       "      <td>1</td>\n",
       "      <td>12.0630</td>\n",
       "      <td>NaN</td>\n",
       "      <td>0</td>\n",
       "      <td>0</td>\n",
       "      <td>0</td>\n",
       "      <td>0</td>\n",
       "      <td>3</td>\n",
       "      <td>155.5</td>\n",
       "      <td>69.1</td>\n",
       "      <td>28.5770</td>\n",
       "      <td>0.85</td>\n",
       "      <td>NaN</td>\n",
       "      <td>NaN</td>\n",
       "    </tr>\n",
       "    <tr>\n",
       "      <th>2</th>\n",
       "      <td>3</td>\n",
       "      <td>2</td>\n",
       "      <td>10.3890</td>\n",
       "      <td>NaN</td>\n",
       "      <td>0</td>\n",
       "      <td>0</td>\n",
       "      <td>0</td>\n",
       "      <td>0</td>\n",
       "      <td>1</td>\n",
       "      <td>144.5</td>\n",
       "      <td>43.2</td>\n",
       "      <td>20.6894</td>\n",
       "      <td>0.53</td>\n",
       "      <td>NaN</td>\n",
       "      <td>NaN</td>\n",
       "    </tr>\n",
       "    <tr>\n",
       "      <th>3</th>\n",
       "      <td>4</td>\n",
       "      <td>1</td>\n",
       "      <td>10.8301</td>\n",
       "      <td>0.0</td>\n",
       "      <td>1</td>\n",
       "      <td>1</td>\n",
       "      <td>1</td>\n",
       "      <td>0</td>\n",
       "      <td>4</td>\n",
       "      <td>156.0</td>\n",
       "      <td>79.0</td>\n",
       "      <td>32.4622</td>\n",
       "      <td>2.08</td>\n",
       "      <td>50.0</td>\n",
       "      <td>64.0</td>\n",
       "    </tr>\n",
       "    <tr>\n",
       "      <th>4</th>\n",
       "      <td>5</td>\n",
       "      <td>1</td>\n",
       "      <td>12.1370</td>\n",
       "      <td>NaN</td>\n",
       "      <td>0</td>\n",
       "      <td>1</td>\n",
       "      <td>0</td>\n",
       "      <td>0</td>\n",
       "      <td>2</td>\n",
       "      <td>170.0</td>\n",
       "      <td>73.1</td>\n",
       "      <td>25.2941</td>\n",
       "      <td>2.82</td>\n",
       "      <td>46.0</td>\n",
       "      <td>66.0</td>\n",
       "    </tr>\n",
       "  </tbody>\n",
       "</table>\n",
       "</div>"
      ],
      "text/plain": [
       "   Unnamed: 0  Sex      Age  \\\n",
       "0           1    1  13.5863   \n",
       "1           2    1  12.0630   \n",
       "2           3    2  10.3890   \n",
       "3           4    1  10.8301   \n",
       "4           5    1  12.1370   \n",
       "\n",
       "   Половое.развитие..0...допубертатное..1..отставание..2...норма..3...опережение  \\\n",
       "0                                                NaN                               \n",
       "1                                                NaN                               \n",
       "2                                                NaN                               \n",
       "3                                                0.0                               \n",
       "4                                                NaN                               \n",
       "\n",
       "   liv  eye  sss  kidneys  OL  рост.см.  вес.кг.      ИМТ  \\\n",
       "0    0    0    0        0   2     177.0     87.6  27.9613   \n",
       "1    0    0    0        0   3     155.5     69.1  28.5770   \n",
       "2    0    0    0        0   1     144.5     43.2  20.6894   \n",
       "3    1    1    1        0   4     156.0     79.0  32.4622   \n",
       "4    0    1    0        0   2     170.0     73.1  25.2941   \n",
       "\n",
       "   Z.Score_Height.ageWHO  LZ_KDR  FV_Tejh  \n",
       "0                   2.20     NaN      NaN  \n",
       "1                   0.85     NaN      NaN  \n",
       "2                   0.53     NaN      NaN  \n",
       "3                   2.08    50.0     64.0  \n",
       "4                   2.82    46.0     66.0  "
      ]
     },
     "execution_count": 112,
     "metadata": {},
     "output_type": "execute_result"
    }
   ],
   "source": [
    "df.head()"
   ]
  },
  {
   "cell_type": "markdown",
   "id": "6f01862a",
   "metadata": {},
   "source": [
    "Очень подозрительно выглядят следующие признаки:\n",
    "- *Половое.развитие..0...допубертатное..1..отставание..2...норма..3...опережение*\n",
    "- *LZ_KDR*\n",
    "- *FV_Tejh*\n",
    "\n",
    "Очень много пропущенных значений:"
   ]
  },
  {
   "cell_type": "code",
   "execution_count": 113,
   "id": "d92a706a",
   "metadata": {},
   "outputs": [
    {
     "data": {
      "text/plain": [
       "Половое.развитие..0...допубертатное..1..отставание..2...норма..3...опережение    156\n",
       "LZ_KDR                                                                           122\n",
       "FV_Tejh                                                                          123\n",
       "dtype: int64"
      ]
     },
     "execution_count": 113,
     "metadata": {},
     "output_type": "execute_result"
    }
   ],
   "source": [
    "df[['Половое.развитие..0...допубертатное..1..отставание..2...норма..3...опережение', 'LZ_KDR', 'FV_Tejh' ]].isnull().sum()"
   ]
  },
  {
   "cell_type": "code",
   "execution_count": 114,
   "id": "d00e7d46",
   "metadata": {},
   "outputs": [
    {
     "data": {
      "text/plain": [
       "253"
      ]
     },
     "execution_count": 114,
     "metadata": {},
     "output_type": "execute_result"
    }
   ],
   "source": [
    "len(df)"
   ]
  },
  {
   "cell_type": "markdown",
   "id": "7d200deb",
   "metadata": {},
   "source": [
    "### Корреляционная матрица:\n",
    "\n",
    "Посмтроим корреляционную матрицу по метрическим показателям: \n",
    "- Age\n",
    "- рост.см.\n",
    "- вес.кг.\n",
    "- ИМТ\n",
    "- Z.Score_Height.ageWHO\n",
    "- LZ_KDR\n",
    "- FV_Tejh\n",
    "\n",
    "Воспользуемся библиотечной функцией ```corr```\n"
   ]
  },
  {
   "cell_type": "code",
   "execution_count": 115,
   "id": "58dfd6bd",
   "metadata": {},
   "outputs": [
    {
     "data": {
      "text/html": [
       "<div>\n",
       "<style scoped>\n",
       "    .dataframe tbody tr th:only-of-type {\n",
       "        vertical-align: middle;\n",
       "    }\n",
       "\n",
       "    .dataframe tbody tr th {\n",
       "        vertical-align: top;\n",
       "    }\n",
       "\n",
       "    .dataframe thead th {\n",
       "        text-align: right;\n",
       "    }\n",
       "</style>\n",
       "<table border=\"1\" class=\"dataframe\">\n",
       "  <thead>\n",
       "    <tr style=\"text-align: right;\">\n",
       "      <th></th>\n",
       "      <th>Age</th>\n",
       "      <th>рост.см.</th>\n",
       "      <th>вес.кг.</th>\n",
       "      <th>ИМТ</th>\n",
       "      <th>Z.Score_Height.ageWHO</th>\n",
       "      <th>LZ_KDR</th>\n",
       "      <th>FV_Tejh</th>\n",
       "    </tr>\n",
       "  </thead>\n",
       "  <tbody>\n",
       "    <tr>\n",
       "      <th>Age</th>\n",
       "      <td>1.000000</td>\n",
       "      <td>0.789528</td>\n",
       "      <td>0.595024</td>\n",
       "      <td>0.245941</td>\n",
       "      <td>-0.225813</td>\n",
       "      <td>0.365573</td>\n",
       "      <td>-0.000410</td>\n",
       "    </tr>\n",
       "    <tr>\n",
       "      <th>рост.см.</th>\n",
       "      <td>0.789528</td>\n",
       "      <td>1.000000</td>\n",
       "      <td>0.700450</td>\n",
       "      <td>0.228837</td>\n",
       "      <td>0.355684</td>\n",
       "      <td>0.530800</td>\n",
       "      <td>0.017995</td>\n",
       "    </tr>\n",
       "    <tr>\n",
       "      <th>вес.кг.</th>\n",
       "      <td>0.595024</td>\n",
       "      <td>0.700450</td>\n",
       "      <td>1.000000</td>\n",
       "      <td>0.845523</td>\n",
       "      <td>0.190932</td>\n",
       "      <td>0.596030</td>\n",
       "      <td>0.104919</td>\n",
       "    </tr>\n",
       "    <tr>\n",
       "      <th>ИМТ</th>\n",
       "      <td>0.245941</td>\n",
       "      <td>0.228837</td>\n",
       "      <td>0.845523</td>\n",
       "      <td>1.000000</td>\n",
       "      <td>-0.009149</td>\n",
       "      <td>0.406308</td>\n",
       "      <td>0.116415</td>\n",
       "    </tr>\n",
       "    <tr>\n",
       "      <th>Z.Score_Height.ageWHO</th>\n",
       "      <td>-0.225813</td>\n",
       "      <td>0.355684</td>\n",
       "      <td>0.190932</td>\n",
       "      <td>-0.009149</td>\n",
       "      <td>1.000000</td>\n",
       "      <td>0.220983</td>\n",
       "      <td>0.002299</td>\n",
       "    </tr>\n",
       "    <tr>\n",
       "      <th>LZ_KDR</th>\n",
       "      <td>0.365573</td>\n",
       "      <td>0.530800</td>\n",
       "      <td>0.596030</td>\n",
       "      <td>0.406308</td>\n",
       "      <td>0.220983</td>\n",
       "      <td>1.000000</td>\n",
       "      <td>0.097197</td>\n",
       "    </tr>\n",
       "    <tr>\n",
       "      <th>FV_Tejh</th>\n",
       "      <td>-0.000410</td>\n",
       "      <td>0.017995</td>\n",
       "      <td>0.104919</td>\n",
       "      <td>0.116415</td>\n",
       "      <td>0.002299</td>\n",
       "      <td>0.097197</td>\n",
       "      <td>1.000000</td>\n",
       "    </tr>\n",
       "  </tbody>\n",
       "</table>\n",
       "</div>"
      ],
      "text/plain": [
       "                            Age  рост.см.   вес.кг.       ИМТ  \\\n",
       "Age                    1.000000  0.789528  0.595024  0.245941   \n",
       "рост.см.               0.789528  1.000000  0.700450  0.228837   \n",
       "вес.кг.                0.595024  0.700450  1.000000  0.845523   \n",
       "ИМТ                    0.245941  0.228837  0.845523  1.000000   \n",
       "Z.Score_Height.ageWHO -0.225813  0.355684  0.190932 -0.009149   \n",
       "LZ_KDR                 0.365573  0.530800  0.596030  0.406308   \n",
       "FV_Tejh               -0.000410  0.017995  0.104919  0.116415   \n",
       "\n",
       "                       Z.Score_Height.ageWHO    LZ_KDR   FV_Tejh  \n",
       "Age                                -0.225813  0.365573 -0.000410  \n",
       "рост.см.                            0.355684  0.530800  0.017995  \n",
       "вес.кг.                             0.190932  0.596030  0.104919  \n",
       "ИМТ                                -0.009149  0.406308  0.116415  \n",
       "Z.Score_Height.ageWHO               1.000000  0.220983  0.002299  \n",
       "LZ_KDR                              0.220983  1.000000  0.097197  \n",
       "FV_Tejh                             0.002299  0.097197  1.000000  "
      ]
     },
     "execution_count": 115,
     "metadata": {},
     "output_type": "execute_result"
    }
   ],
   "source": [
    "metric_keys = ['Age', 'рост.см.', 'вес.кг.', 'ИМТ', 'Z.Score_Height.ageWHO', 'LZ_KDR', 'FV_Tejh']\n",
    "correlations_matrix = df[metric_keys].corr()\n",
    "correlations_matrix"
   ]
  },
  {
   "cell_type": "markdown",
   "id": "a216c0ba",
   "metadata": {},
   "source": [
    "Найдем наиболее значимую корреляцию:"
   ]
  },
  {
   "cell_type": "code",
   "execution_count": 116,
   "id": "cd3b9061",
   "metadata": {},
   "outputs": [
    {
     "name": "stdout",
     "output_type": "stream",
     "text": [
      "вес.кг. ИМТ 0.8455227633826613\n"
     ]
    }
   ],
   "source": [
    "import itertools\n",
    "\n",
    "\n",
    "max_a = correlations_matrix.keys()[0]\n",
    "max_b = correlations_matrix.keys()[1]\n",
    "max_value = correlations_matrix[max_a][max_b]\n",
    "for a, b in itertools.combinations(metric_keys, 2):\n",
    "    if np.fabs(correlations_matrix[a][b]) > np.fabs(max_value):\n",
    "        max_a, max_b, max_value = a, b, correlations_matrix[a][b]\n",
    "\n",
    "print(max_a, max_b, max_value)"
   ]
  },
  {
   "cell_type": "markdown",
   "id": "c02b57da",
   "metadata": {},
   "source": [
    "Действительно, корреляция признаков `вес.кг.` и `ИМТ` наиболее значимая: ~$0.85$\n",
    "\n",
    "### Диаграмма:\n",
    "\n",
    "Для данной пары метрических переменных построим двумерную диаграмму: "
   ]
  },
  {
   "cell_type": "code",
   "execution_count": 117,
   "id": "4032b63c",
   "metadata": {},
   "outputs": [
    {
     "name": "stderr",
     "output_type": "stream",
     "text": [
      "*c* argument looks like a single numeric RGB or RGBA sequence, which should be avoided as value-mapping will have precedence in case its length matches with *x* & *y*.  Please use the *color* keyword-argument or provide a 2D array with a single row if you intend to specify the same RGB or RGBA value for all points.\n"
     ]
    },
    {
     "data": {
      "image/png": "[encoded data removed]",
      "text/plain": [
       "<Figure size 720x720 with 1 Axes>"
      ]
     },
     "metadata": {
      "needs_background": "light"
     },
     "output_type": "display_data"
    }
   ],
   "source": [
    "plt.figure().set_size_inches(10, 10)\n",
    "plt.title(f'Диаграмма признаков {max_a} и {max_b}')\n",
    "plt.scatter(df[max_a], df[max_b], s=45, c=(1, 0, 1, 1.0), edgecolors=(0, 0, 0, 1.0))\n",
    "plt.xlabel(max_a)\n",
    "plt.ylabel(max_b)\n",
    "plt.show()"
   ]
  },
  {
   "cell_type": "markdown",
   "id": "ad59d1bc",
   "metadata": {},
   "source": [
    "Между переменными прослеживается четкая зависимость, предположительно линейная."
   ]
  },
  {
   "cell_type": "markdown",
   "id": "2fdb21e2",
   "metadata": {},
   "source": [
    "### Применим модель множественной регрессии:\n",
    "\n",
    "Воспользуемся моделю регрессии из библиотеки $\\texttt{sklearn}$\n",
    "\n",
    "Однако, данные содержат пропущенные значения, поэтому необходимо как-то их обработать. Для этого воспользуемся ``sklearn.impute.SimpleImputer``"
   ]
  },
  {
   "cell_type": "code",
   "execution_count": 118,
   "id": "f84e7a1a",
   "metadata": {},
   "outputs": [],
   "source": [
    "from sklearn import linear_model \n",
    "from sklearn.impute import SimpleImputer\n",
    "target = 'Z.Score_Height.ageWHO'\n",
    "if target in  metric_keys:\n",
    "    metric_keys.remove(target)\n",
    "\n",
    "X = df[metric_keys]\n",
    "y  = df[target]\n",
    "\n",
    "X = SimpleImputer(missing_values=np.nan, strategy = 'mean').fit_transform(X, y)\n",
    "model  = linear_model.LinearRegression().fit(X, y)\n",
    "coefs = model.coef_"
   ]
  },
  {
   "cell_type": "markdown",
   "id": "c9b96ce5",
   "metadata": {},
   "source": [
    "Посмотрим на значимость прогноза:"
   ]
  },
  {
   "cell_type": "code",
   "execution_count": 119,
   "id": "0d17b34d",
   "metadata": {},
   "outputs": [
    {
     "data": {
      "text/plain": [
       "0.8083265291551404"
      ]
     },
     "execution_count": 119,
     "metadata": {},
     "output_type": "execute_result"
    }
   ],
   "source": [
    "model.score(X, y)"
   ]
  },
  {
   "cell_type": "markdown",
   "id": "99ff1950",
   "metadata": {},
   "source": [
    "Регрессионная модель способна объяснить $80$% дисперсии целевой зависимой пременной\n",
    "\n",
    "Посмотрим на наиболее значимые переменные:"
   ]
  },
  {
   "cell_type": "code",
   "execution_count": 120,
   "id": "012ceb72",
   "metadata": {},
   "outputs": [
    {
     "data": {
      "text/html": [
       "<div>\n",
       "<style scoped>\n",
       "    .dataframe tbody tr th:only-of-type {\n",
       "        vertical-align: middle;\n",
       "    }\n",
       "\n",
       "    .dataframe tbody tr th {\n",
       "        vertical-align: top;\n",
       "    }\n",
       "\n",
       "    .dataframe thead th {\n",
       "        text-align: right;\n",
       "    }\n",
       "</style>\n",
       "<table border=\"1\" class=\"dataframe\">\n",
       "  <thead>\n",
       "    <tr style=\"text-align: right;\">\n",
       "      <th></th>\n",
       "      <th>0</th>\n",
       "      <th>1</th>\n",
       "    </tr>\n",
       "  </thead>\n",
       "  <tbody>\n",
       "    <tr>\n",
       "      <th>0</th>\n",
       "      <td>Age</td>\n",
       "      <td>-0.596275</td>\n",
       "    </tr>\n",
       "    <tr>\n",
       "      <th>1</th>\n",
       "      <td>рост.см.</td>\n",
       "      <td>0.114827</td>\n",
       "    </tr>\n",
       "    <tr>\n",
       "      <th>2</th>\n",
       "      <td>FV_Tejh</td>\n",
       "      <td>-0.004716</td>\n",
       "    </tr>\n",
       "    <tr>\n",
       "      <th>3</th>\n",
       "      <td>LZ_KDR</td>\n",
       "      <td>0.004228</td>\n",
       "    </tr>\n",
       "    <tr>\n",
       "      <th>4</th>\n",
       "      <td>ИМТ</td>\n",
       "      <td>-0.001289</td>\n",
       "    </tr>\n",
       "    <tr>\n",
       "      <th>5</th>\n",
       "      <td>вес.кг.</td>\n",
       "      <td>0.000108</td>\n",
       "    </tr>\n",
       "  </tbody>\n",
       "</table>\n",
       "</div>"
      ],
      "text/plain": [
       "          0         1\n",
       "0       Age -0.596275\n",
       "1  рост.см.  0.114827\n",
       "2   FV_Tejh -0.004716\n",
       "3    LZ_KDR  0.004228\n",
       "4       ИМТ -0.001289\n",
       "5   вес.кг.  0.000108"
      ]
     },
     "execution_count": 120,
     "metadata": {},
     "output_type": "execute_result"
    }
   ],
   "source": [
    "#sorted(zip(metric_keys, model.coef_),  key = lambda x: np.abs(x[1]), reverse=True)\n",
    "pd.DataFrame(data=sorted(zip(metric_keys, model.coef_),  key = lambda x: np.abs(x[1]), reverse=True))"
   ]
  },
  {
   "cell_type": "markdown",
   "id": "c958a3cb",
   "metadata": {},
   "source": [
    "Двумя наиболее значимымы пременными являются возраст и рост\n",
    "\n",
    "\n",
    "### Факторный анализ\n",
    "\n",
    "Выполним факторный анализ с использованием библиотеки ``statmodels``\n",
    "\n",
    "Нам интересны первые две компоненты, соответственно параметр `n_factor` класса `Factor` положим равным двум"
   ]
  },
  {
   "cell_type": "code",
   "execution_count": 121,
   "id": "c82825db",
   "metadata": {},
   "outputs": [],
   "source": [
    "from statsmodels.multivariate.factor import Factor\n",
    "X = df.drop('Z.Score_Height.ageWHO', axis=1)\n",
    "fa = Factor(X, n_factor=2, method='pa')#pa == метод главных компонент\n",
    "res = fa.fit()"
   ]
  },
  {
   "cell_type": "markdown",
   "id": "be362815",
   "metadata": {},
   "source": [
    "Посмотрим на матрицу факторных нагрузок:"
   ]
  },
  {
   "cell_type": "code",
   "execution_count": 122,
   "id": "a39f79c2",
   "metadata": {},
   "outputs": [
    {
     "data": {
      "text/html": [
       "<style type=\"text/css\">\n",
       "#T_91207_row0_col0, #T_91207_row1_col0, #T_91207_row2_col0, #T_91207_row3_col0, #T_91207_row4_col0, #T_91207_row5_col0, #T_91207_row8_col1, #T_91207_row9_col1, #T_91207_row10_col1, #T_91207_row11_col1 {\n",
       "  color: black;\n",
       "  background-color: yellow;\n",
       "}\n",
       "#T_91207_row0_col1, #T_91207_row4_col1, #T_91207_row5_col1, #T_91207_row6_col1, #T_91207_row7_col1, #T_91207_row9_col0, #T_91207_row10_col0, #T_91207_row12_col0, #T_91207_row13_col0 {\n",
       "  color: white;\n",
       "}\n",
       "#T_91207_row1_col1, #T_91207_row2_col1, #T_91207_row3_col1, #T_91207_row8_col0, #T_91207_row11_col0 {\n",
       "  color: black;\n",
       "}\n",
       "#T_91207_row6_col0, #T_91207_row7_col0, #T_91207_row12_col1, #T_91207_row13_col1 {\n",
       "  color: white;\n",
       "  background-color: yellow;\n",
       "}\n",
       "</style>\n",
       "<table id=\"T_91207\">\n",
       "  <thead>\n",
       "    <tr>\n",
       "      <th class=\"blank level0\" >&nbsp;</th>\n",
       "      <th id=\"T_91207_level0_col0\" class=\"col_heading level0 col0\" >factor 0</th>\n",
       "      <th id=\"T_91207_level0_col1\" class=\"col_heading level0 col1\" >factor 1</th>\n",
       "    </tr>\n",
       "  </thead>\n",
       "  <tbody>\n",
       "    <tr>\n",
       "      <th id=\"T_91207_level0_row0\" class=\"row_heading level0 row0\" >вес.кг.</th>\n",
       "      <td id=\"T_91207_row0_col0\" class=\"data row0 col0\" >0.976894</td>\n",
       "      <td id=\"T_91207_row0_col1\" class=\"data row0 col1\" >0.141996</td>\n",
       "    </tr>\n",
       "    <tr>\n",
       "      <th id=\"T_91207_level0_row1\" class=\"row_heading level0 row1\" >ИМТ</th>\n",
       "      <td id=\"T_91207_row1_col0\" class=\"data row1 col0\" >0.886677</td>\n",
       "      <td id=\"T_91207_row1_col1\" class=\"data row1 col1\" >-0.301085</td>\n",
       "    </tr>\n",
       "    <tr>\n",
       "      <th id=\"T_91207_level0_row2\" class=\"row_heading level0 row2\" >OL</th>\n",
       "      <td id=\"T_91207_row2_col0\" class=\"data row2 col0\" >0.758271</td>\n",
       "      <td id=\"T_91207_row2_col1\" class=\"data row2 col1\" >-0.641419</td>\n",
       "    </tr>\n",
       "    <tr>\n",
       "      <th id=\"T_91207_level0_row3\" class=\"row_heading level0 row3\" >LZ_KDR</th>\n",
       "      <td id=\"T_91207_row3_col0\" class=\"data row3 col0\" >0.648790</td>\n",
       "      <td id=\"T_91207_row3_col1\" class=\"data row3 col1\" >0.307115</td>\n",
       "    </tr>\n",
       "    <tr>\n",
       "      <th id=\"T_91207_level0_row4\" class=\"row_heading level0 row4\" >liv</th>\n",
       "      <td id=\"T_91207_row4_col0\" class=\"data row4 col0\" >0.404203</td>\n",
       "      <td id=\"T_91207_row4_col1\" class=\"data row4 col1\" >-0.274578</td>\n",
       "    </tr>\n",
       "    <tr>\n",
       "      <th id=\"T_91207_level0_row5\" class=\"row_heading level0 row5\" >sss</th>\n",
       "      <td id=\"T_91207_row5_col0\" class=\"data row5 col0\" >0.331890</td>\n",
       "      <td id=\"T_91207_row5_col1\" class=\"data row5 col1\" >0.043236</td>\n",
       "    </tr>\n",
       "    <tr>\n",
       "      <th id=\"T_91207_level0_row6\" class=\"row_heading level0 row6\" >Sex</th>\n",
       "      <td id=\"T_91207_row6_col0\" class=\"data row6 col0\" >-0.257472</td>\n",
       "      <td id=\"T_91207_row6_col1\" class=\"data row6 col1\" >-0.102389</td>\n",
       "    </tr>\n",
       "    <tr>\n",
       "      <th id=\"T_91207_level0_row7\" class=\"row_heading level0 row7\" >kidneys</th>\n",
       "      <td id=\"T_91207_row7_col0\" class=\"data row7 col0\" >0.081396</td>\n",
       "      <td id=\"T_91207_row7_col1\" class=\"data row7 col1\" >0.076505</td>\n",
       "    </tr>\n",
       "    <tr>\n",
       "      <th id=\"T_91207_level0_row8\" class=\"row_heading level0 row8\" >рост.см.</th>\n",
       "      <td id=\"T_91207_row8_col0\" class=\"data row8 col0\" >0.454342</td>\n",
       "      <td id=\"T_91207_row8_col1\" class=\"data row8 col1\" >0.825733</td>\n",
       "    </tr>\n",
       "    <tr>\n",
       "      <th id=\"T_91207_level0_row9\" class=\"row_heading level0 row9\" >Age</th>\n",
       "      <td id=\"T_91207_row9_col0\" class=\"data row9 col0\" >0.286716</td>\n",
       "      <td id=\"T_91207_row9_col1\" class=\"data row9 col1\" >0.786222</td>\n",
       "    </tr>\n",
       "    <tr>\n",
       "      <th id=\"T_91207_level0_row10\" class=\"row_heading level0 row10\" >Половое.развитие..0...допубертатное..1..отставание..2...норма..3...опережение</th>\n",
       "      <td id=\"T_91207_row10_col0\" class=\"data row10 col0\" >0.047966</td>\n",
       "      <td id=\"T_91207_row10_col1\" class=\"data row10 col1\" >0.607091</td>\n",
       "    </tr>\n",
       "    <tr>\n",
       "      <th id=\"T_91207_level0_row11\" class=\"row_heading level0 row11\" >eye</th>\n",
       "      <td id=\"T_91207_row11_col0\" class=\"data row11 col0\" >0.353184</td>\n",
       "      <td id=\"T_91207_row11_col1\" class=\"data row11 col1\" >-0.369337</td>\n",
       "    </tr>\n",
       "    <tr>\n",
       "      <th id=\"T_91207_level0_row12\" class=\"row_heading level0 row12\" >Unnamed: 0</th>\n",
       "      <td id=\"T_91207_row12_col0\" class=\"data row12 col0\" >0.130484</td>\n",
       "      <td id=\"T_91207_row12_col1\" class=\"data row12 col1\" >-0.206478</td>\n",
       "    </tr>\n",
       "    <tr>\n",
       "      <th id=\"T_91207_level0_row13\" class=\"row_heading level0 row13\" >FV_Tejh</th>\n",
       "      <td id=\"T_91207_row13_col0\" class=\"data row13 col0\" >0.072000</td>\n",
       "      <td id=\"T_91207_row13_col1\" class=\"data row13 col1\" >0.098485</td>\n",
       "    </tr>\n",
       "  </tbody>\n",
       "</table>\n"
      ],
      "text/plain": [
       "<pandas.io.formats.style.Styler at 0x7f165d3f2860>"
      ]
     },
     "execution_count": 122,
     "metadata": {},
     "output_type": "execute_result"
    }
   ],
   "source": [
    "res.get_loadings_frame(threshold=0.3)"
   ]
  },
  {
   "cell_type": "markdown",
   "id": "aafc4771",
   "metadata": {},
   "source": [
    "Можно увидеть, что переменные имеют \"значимые\" (thresold > 0.3) факторные нагрузки только с одним из двух факторов. Фактор `factor 0` имеет сильную отрицательную корреляцию с переменными веса, ИМТ и ожирением, а фактор `factor 1` - с перменными роста, возраста и полового развития.\n",
    "\n",
    "Проинтерпритируем факторы: \n",
    "- **factor 0** может выступать в роли фактора, описывающего некторые параметры, связанные с лишним весом\n",
    "- **factor 1** выступает в роли фактора, описывающего некоторые возрастные параметры"
   ]
  },
  {
   "cell_type": "markdown",
   "id": "e572a042",
   "metadata": {},
   "source": [
    "Посмотрим на вклад факторов в дисперсию:"
   ]
  },
  {
   "cell_type": "code",
   "execution_count": 123,
   "id": "4cf994fb",
   "metadata": {},
   "outputs": [
    {
     "data": {
      "image/png": "[encoded data removed]",
      "text/plain": [
       "<Figure size 432x288 with 2 Axes>"
      ]
     },
     "metadata": {
      "needs_background": "light"
     },
     "output_type": "display_data"
    }
   ],
   "source": [
    "res.plot_scree(2)\n",
    "plt.show()"
   ]
  },
  {
   "cell_type": "markdown",
   "id": "33840cc3",
   "metadata": {},
   "source": [
    "Видим, что `factor_0` имеет значительно больший вклад в дисперсию"
   ]
  },
  {
   "cell_type": "markdown",
   "id": "39e2c9d5",
   "metadata": {},
   "source": [
    "### Построим двумерную диаграмму:"
   ]
  },
  {
   "cell_type": "code",
   "execution_count": 124,
   "id": "a920eaa6",
   "metadata": {},
   "outputs": [
    {
     "name": "stderr",
     "output_type": "stream",
     "text": [
      "*c* argument looks like a single numeric RGB or RGBA sequence, which should be avoided as value-mapping will have precedence in case its length matches with *x* & *y*.  Please use the *color* keyword-argument or provide a 2D array with a single row if you intend to specify the same RGB or RGBA value for all points.\n"
     ]
    },
    {
     "data": {
      "image/png": "[encoded data removed]",
      "text/plain": [
       "<Figure size 720x720 with 1 Axes>"
      ]
     },
     "metadata": {
      "needs_background": "light"
     },
     "output_type": "display_data"
    }
   ],
   "source": [
    "from sklearn.decomposition import FactorAnalysis, PCA\n",
    "X = SimpleImputer(missing_values=np.nan, strategy = 'mean').fit_transform(X)\n",
    "#fa = FactorAnalysis(n_components=2)\n",
    "#fa.fit(X)\n",
    "pca = PCA(n_components=2)\n",
    "pca.fit(X)\n",
    "#factors = fa.transform(X)\n",
    "factors = pca.transform(X)\n",
    "\n",
    "plt.figure().set_size_inches(10, 10)\n",
    "plt.title('Диаграмма первых двух факторов')\n",
    "plt.scatter(factors[:, 0], factors[:, 1], s=45, c=(1, 0, 1, 1.0), edgecolors=(0, 0, 0, 1.0))\n",
    "plt.xlabel('фактор 0')\n",
    "plt.ylabel('фактор 1')\n",
    "plt.show()"
   ]
  },
  {
   "cell_type": "code",
   "execution_count": 125,
   "id": "30cf0f81",
   "metadata": {},
   "outputs": [
    {
     "data": {
      "text/plain": [
       "array([0.89506077, 0.0872209 ])"
      ]
     },
     "execution_count": 125,
     "metadata": {},
     "output_type": "execute_result"
    }
   ],
   "source": [
    "pca.explained_variance_ratio_"
   ]
  },
  {
   "cell_type": "markdown",
   "id": "2abbf801",
   "metadata": {},
   "source": [
    "## Дискриминантный анализ:\n",
    "\n",
    "Выясним возможности по классификации детей с разными формами ожирения: -1, 0, 1, 2, 3, 4, 5"
   ]
  },
  {
   "cell_type": "code",
   "execution_count": 126,
   "id": "f44190af",
   "metadata": {},
   "outputs": [],
   "source": [
    "from sklearn. discriminant_analysis import LinearDiscriminantAnalysis \n",
    "from sklearn.metrics import  confusion_matrix\n",
    "target = 'OL'\n",
    "variables = list(df.keys())\n",
    "variables.remove('Unnamed: 0')\n",
    "variables.remove(target)\n",
    "X = SimpleImputer(missing_values=np.nan, strategy = 'mean').fit_transform(df[variables])\n",
    "y = df[target]\n",
    "model = LinearDiscriminantAnalysis().fit(X, y)\n"
   ]
  },
  {
   "cell_type": "markdown",
   "id": "03ae4247",
   "metadata": {},
   "source": [
    "Посмотрим на точность классификации:"
   ]
  },
  {
   "cell_type": "code",
   "execution_count": 127,
   "id": "07ec3ed1",
   "metadata": {},
   "outputs": [
    {
     "data": {
      "text/plain": [
       "0.8972332015810277"
      ]
     },
     "execution_count": 127,
     "metadata": {},
     "output_type": "execute_result"
    }
   ],
   "source": [
    "model.score(X, y)"
   ]
  },
  {
   "cell_type": "markdown",
   "id": "94edb189",
   "metadata": {},
   "source": [
    "Довольно высокий показатель точности: почти 90% верно классифицированных объектов\n",
    "\n",
    "Посмотрим на матрицу качества классификации:"
   ]
  },
  {
   "cell_type": "code",
   "execution_count": 128,
   "id": "507a78be",
   "metadata": {},
   "outputs": [
    {
     "data": {
      "image/png": "[encoded data removed]",
      "text/plain": [
       "<Figure size 648x504 with 2 Axes>"
      ]
     },
     "metadata": {
      "needs_background": "light"
     },
     "output_type": "display_data"
    }
   ],
   "source": [
    "import seaborn\n",
    "plt.figure().set_size_inches(9, 7)\n",
    "plt.title('heatmap матрицы качества классификации')\n",
    "seaborn.heatmap(confusion_matrix(y, model.predict(X)), annot=True, cmap=\"crest\")\n",
    "plt.show()"
   ]
  },
  {
   "cell_type": "code",
   "execution_count": 129,
   "id": "543ec05d",
   "metadata": {},
   "outputs": [
    {
     "data": {
      "image/png": "[encoded data removed]",
      "text/plain": [
       "<Figure size 1080x504 with 1 Axes>"
      ]
     },
     "metadata": {},
     "output_type": "display_data"
    }
   ],
   "source": [
    "plot_data = model.transform(X)\n",
    "plt.figure().set_size_inches(15, 7)\n",
    "plt.title('Иллюстрация возможностей классификации')\n",
    "for  i in y.unique():\n",
    "    plt.scatter (plot_data[y == i, 0], plot_data[y == i, 1], label=f\"Степень ожирения {i}\", s=70, edgecolors=(0, 0, 0, 1.0))\n",
    "plt.legend(loc='best', shadow= False , scatterpoints=1)\n",
    "plt.xticks([])\n",
    "plt.yticks([])\n",
    "plt.show()"
   ]
  },
  {
   "cell_type": "markdown",
   "id": "d872a9da",
   "metadata": {},
   "source": [
    "На диаграмме видно, что классы объектов с разной степенью ожирения (`OL`) практиески не \"накладываются\" друг на друга "
   ]
  },
  {
   "cell_type": "code",
   "execution_count": null,
   "id": "21a41901",
   "metadata": {},
   "outputs": [],
   "source": []
  }
 ],
 "metadata": {
  "kernelspec": {
   "display_name": "Python 3 (ipykernel)",
   "language": "python",
   "name": "python3"
  },
  "language_info": {
   "codemirror_mode": {
    "name": "ipython",
    "version": 3
   },
   "file_extension": ".py",
   "mimetype": "text/x-python",
   "name": "python",
   "nbconvert_exporter": "python",
   "pygments_lexer": "ipython3",
   "version": "3.10.8"
  }
 },
 "nbformat": 4,
 "nbformat_minor": 5
}
