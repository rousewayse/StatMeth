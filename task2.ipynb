{
 "cells": [
  {
   "cell_type": "markdown",
   "id": "d2a8527b",
   "metadata": {},
   "source": [
    "# Задание 2\n",
    "- Шеверев Сергей Вячеславович\n",
    "- 22М-05ММ\n",
    "- Вариант 3"
   ]
  },
  {
   "cell_type": "code",
   "execution_count": 31,
   "id": "a48bd1f3",
   "metadata": {},
   "outputs": [],
   "source": [
    "import numpy as np\n",
    "np.random.seed(100)\n",
    "\n",
    "import math \n",
    "\n",
    "from typing import Callable \n",
    "import functools\n",
    "from matplotlib import pyplot as plt\n",
    "from statistics import mode\n",
    "import pandas as pd\n",
    "\n",
    "def my_chisquare(f_obs, f_exp, size):\n",
    "    res = 0.0\n",
    "    for o, e in zip(f_obs, f_exp):\n",
    "        res += ((o - e)**2)/e\n",
    "    res *= size\n",
    "    return 1 - stats.chi2.pdf(res, df = len(f_obs)-1), res"
   ]
  },
  {
   "cell_type": "code",
   "execution_count": 2,
   "id": "bac8e832",
   "metadata": {},
   "outputs": [
    {
     "data": {
      "application/javascript": [
       "IPython.OutputArea.prototype._should_scroll = function(lines) {\n",
       "    return false;\n",
       "}\n"
      ],
      "text/plain": [
       "<IPython.core.display.Javascript object>"
      ]
     },
     "metadata": {},
     "output_type": "display_data"
    }
   ],
   "source": [
    "%%javascript\n",
    "IPython.OutputArea.prototype._should_scroll = function(lines) {\n",
    "    return false;\n",
    "}"
   ]
  },
  {
   "cell_type": "markdown",
   "id": "2210233a",
   "metadata": {},
   "source": [
    "## 1.Дискретные распределения \n",
    "Промоделируем сложно-пуассоновское распределение из прошлого задания (с внутренним отрицателным биномиальным):"
   ]
  },
  {
   "cell_type": "markdown",
   "id": "c0722769",
   "metadata": {},
   "source": [
    "Параметры распределений:\n",
    "- Внутреннее:\n",
    " - **succ_number** - количесво успехов в испытаниях \n",
    " - **succ_prob** - вероятность успеха\n",
    "- Внешнее: \n",
    " - **lam** - параметр $\\lambda$\n",
    "%- **amount_of_bins** - задает количество интервалов группировки при построении полигона частот\n",
    "- **size** - параметр, управляющий размером выборки"
   ]
  },
  {
   "cell_type": "code",
   "execution_count": 3,
   "id": "d27df2c1",
   "metadata": {},
   "outputs": [],
   "source": [
    "succ_number = 5\n",
    "succ_prob = 0.13\n",
    "lam = 10\n",
    "size = 10**6\n",
    "\n",
    "amount_of_bins = 30\n",
    "\n",
    "def complex_poisson(callee: Callable, lam: float = 1.0, size: int = 1000)->np.ndarray:\n",
    "    res = np.random.poisson(lam, size)\n",
    "    return np.array(list(map(sum, map(callee, res))))\n",
    "\n",
    "\n",
    "def nbinom(size):\n",
    "    return np.random.negative_binomial(n=succ_number, p=succ_prob, size=size)\n",
    "\n",
    "def get_moment(data: np.array, mean = None, order: int =1):\n",
    "    if mean is None:\n",
    "        mean = data.mean()\n",
    "    return sum((data - mean)**order)/len(data)\n"
   ]
  },
  {
   "cell_type": "code",
   "execution_count": 4,
   "id": "e2cc02a7",
   "metadata": {},
   "outputs": [],
   "source": [
    "rv_realization = complex_poisson(nbinom, lam=lam, size=size)"
   ]
  },
  {
   "cell_type": "markdown",
   "id": "652d9661",
   "metadata": {},
   "source": [
    "Вычислим *рассеяние*:\n",
    "$$ e = \\frac{\\sigma^2}{\\mu} \\text{, где } \\mu = E\\xi \\text{, } \\sigma^2 = D\\xi$$"
   ]
  },
  {
   "cell_type": "code",
   "execution_count": 5,
   "id": "730e79b9",
   "metadata": {},
   "outputs": [
    {
     "name": "stdout",
     "output_type": "stream",
     "text": [
      "Математическое ожидание: 334.500412\n",
      "Дисперсия: 13755.532441830252\n",
      "Рассение: 41.122617337255335\n"
     ]
    }
   ],
   "source": [
    "#rv_realization = np.random.negative_binomial(n=succ_number, p=succ_prob, size= size)\n",
    "\n",
    "rv_expectation = rv_realization.mean()\n",
    "rv_dispersion = math.pow(rv_realization.std(), 2)\n",
    "\n",
    "rv_scattering = rv_dispersion/rv_expectation\n",
    "print(f'Математическое ожидание: {rv_expectation}\\nДисперсия: {rv_dispersion}\\nРассение: {rv_scattering}')"
   ]
  },
  {
   "cell_type": "markdown",
   "id": "69e9a5a2",
   "metadata": {},
   "source": [
    "*Рассеяние* значительно больше 1 $\\Rightarrow$ применяем модель отрицательно биномиального распределения."
   ]
  },
  {
   "cell_type": "markdown",
   "id": "facefc87",
   "metadata": {},
   "source": [
    "#### Оценим параметры (Метод моментов)"
   ]
  },
  {
   "cell_type": "markdown",
   "id": "96d0291f",
   "metadata": {},
   "source": [
    " - $E\\xi = \\frac{kq}{p} \\Rightarrow k = \\frac{E\\xi\\cdot p}{q}$\n",
    " - $D\\xi = \\frac{kq}{p^2} \\Rightarrow p = \\frac{E\\xi}{D\\xi}$\n",
    " - $ k = \\frac{E^2\\xi}{D\\xi - E\\xi} $"
   ]
  },
  {
   "cell_type": "code",
   "execution_count": 6,
   "id": "60753c06",
   "metadata": {},
   "outputs": [],
   "source": [
    "rv_expectation2 = (rv_realization**2).mean()\n",
    "k = rv_expectation2/(rv_dispersion - rv_expectation)\n",
    "p = rv_expectation/rv_dispersion"
   ]
  },
  {
   "cell_type": "code",
   "execution_count": 7,
   "id": "eb02c2f3",
   "metadata": {},
   "outputs": [
    {
     "name": "stdout",
     "output_type": "stream",
     "text": [
      "Оценка параметров:\n",
      "\tВероятность успеха: 0.024317518308690986\n",
      "\tКоличество успехов: 9.361877521097695\n"
     ]
    }
   ],
   "source": [
    "print(f\"Оценка параметров:\\n\\tВероятность успеха: {p}\\n\\tКоличество успехов: {k}\")"
   ]
  },
  {
   "cell_type": "code",
   "execution_count": 8,
   "id": "f0ce9517",
   "metadata": {},
   "outputs": [],
   "source": [
    "import scipy.stats as stats\n",
    "\n",
    "neg_binom = stats.nbinom(n=k, p=p)\n",
    "\n",
    "\n",
    "counts, bins = np.histogram(rv_realization, bins=amount_of_bins)\n",
    "counts = np.append(np.array(counts, dtype='float64')/size, 1 - sum(counts)/size)\n",
    "counts = np.array(counts, dtype='float64')\n",
    "\n",
    "counts2 = [ neg_binom.cdf(bins[i+1]) - neg_binom.cdf(bins[i]) for i in range(len(bins)-1)]\n",
    "counts2.append(1 - sum(counts2))\n",
    "counts2 = np.array(counts2, dtype='float64')\n"
   ]
  },
  {
   "cell_type": "code",
   "execution_count": 9,
   "id": "05b2b470",
   "metadata": {},
   "outputs": [
    {
     "name": "stdout",
     "output_type": "stream",
     "text": [
      "Статистика хи-кватрат: 0.7997622860853351\n",
      "pvalue: 1.0\n"
     ]
    }
   ],
   "source": [
    "svalue, pvalue = stats.chisquare(f_obs=counts, f_exp=counts2)\n",
    "print(f\"Статистика хи-кватрат: {svalue}\\npvalue: {pvalue}\")"
   ]
  },
  {
   "cell_type": "code",
   "execution_count": 10,
   "id": "e4a87db6",
   "metadata": {},
   "outputs": [
    {
     "name": "stdout",
     "output_type": "stream",
     "text": [
      "Статистика хи-кватрат: 799762.2860853351\n",
      "pvalue: 1.0\n"
     ]
    }
   ],
   "source": [
    "pvalue, svalue = my_chisquare(f_obs=counts, f_exp=counts2, size=size)\n",
    "print(f\"Статистика хи-кватрат: {svalue}\\npvalue: {pvalue}\")"
   ]
  },
  {
   "cell_type": "markdown",
   "id": "96eb74a6",
   "metadata": {},
   "source": [
    "#### Оценка параметров (Метод максимального правдопобия)"
   ]
  },
  {
   "cell_type": "code",
   "execution_count": 11,
   "id": "10606dce",
   "metadata": {},
   "outputs": [
    {
     "name": "stdout",
     "output_type": "stream",
     "text": [
      "[7.85398296 0.02301856]\n"
     ]
    }
   ],
   "source": [
    "from scipy import optimize\n",
    "def func(x, rv_realization):\n",
    "    res = 0.0\n",
    "    for rv in rv_realization:\n",
    "        res += np.log(stats.nbinom.pmf(k=rv, n=x[0], p=x[1]))\n",
    "    return -res\n",
    "    \n",
    "res = optimize.minimize(func, [k, p], (rv_realization[:10000]), bounds=[(1, 2*k), (10**(-6), 0.5)])\n",
    "print(res.x)"
   ]
  },
  {
   "cell_type": "code",
   "execution_count": 12,
   "id": "de5a2d5f",
   "metadata": {},
   "outputs": [
    {
     "name": "stdout",
     "output_type": "stream",
     "text": [
      "Оценка параметров:\n",
      "\tВероятнотсь успеха: 0.023018555864585535\n",
      "\tКоличество успехов: 7.8539829578696665\n"
     ]
    }
   ],
   "source": [
    "print(f'Оценка параметров:\\n\\tВероятнотсь успеха: {res.x[1]}\\n\\tКоличество успехов: {res.x[0]}')"
   ]
  },
  {
   "cell_type": "code",
   "execution_count": 13,
   "id": "dcf4206b",
   "metadata": {},
   "outputs": [],
   "source": [
    "neg_binom = stats.nbinom(n=int(res.x[0]), p=res.x[1])\n",
    "counts3 = [ neg_binom.cdf(bins[i+1]) - neg_binom.cdf(bins[i]) for i in range(len(bins)-1)]\n",
    "counts3.append(1 - sum(counts3))\n",
    "counts3 = np.array(counts3, dtype='float64')"
   ]
  },
  {
   "cell_type": "code",
   "execution_count": 15,
   "id": "474c8972",
   "metadata": {},
   "outputs": [
    {
     "name": "stdout",
     "output_type": "stream",
     "text": [
      "Статистика хи-кватрат: 0.1295730522779818\n",
      "pvalue: 1.0\n"
     ]
    }
   ],
   "source": [
    "svalue, pvalue = stats.chisquare(f_obs=counts, f_exp=counts3)\n",
    "print(f\"Статистика хи-кватрат: {svalue}\\npvalue: {pvalue}\")"
   ]
  },
  {
   "cell_type": "code",
   "execution_count": 16,
   "id": "77335e4b",
   "metadata": {},
   "outputs": [
    {
     "name": "stdout",
     "output_type": "stream",
     "text": [
      "Статистика хи-кватрат: 129573.05227798183\n",
      "pvalue: 1.0\n"
     ]
    }
   ],
   "source": [
    "pvalue, svalue = my_chisquare(f_obs=counts, f_exp=counts3, size=size)\n",
    "print(f\"Статистика хи-кватрат: {svalue}\\npvalue: {pvalue}\")"
   ]
  },
  {
   "cell_type": "markdown",
   "id": "65767136",
   "metadata": {},
   "source": [
    "## 2.Абсолютно непрерывные распределения\n",
    "\n",
    "Вариант - экспоненциальное распределение"
   ]
  },
  {
   "cell_type": "code",
   "execution_count": 17,
   "id": "a84d903c",
   "metadata": {},
   "outputs": [],
   "source": [
    "lam = 1.5\n",
    "\n",
    "\n",
    "expon = stats.expon(scale=1/lam)\n",
    "rv_realization = expon.rvs( size=size, random_state=45)"
   ]
  },
  {
   "cell_type": "code",
   "execution_count": 18,
   "id": "e38282ab",
   "metadata": {},
   "outputs": [],
   "source": [
    "counts, bins = np.histogram(rv_realization, bins=amount_of_bins)\n",
    "\n",
    "counts = np.append(np.array(counts, dtype='float64')/size, 1 - sum(counts)/size)"
   ]
  },
  {
   "cell_type": "markdown",
   "id": "6f63c4c6",
   "metadata": {},
   "source": [
    "#### Оценка параметров \n",
    "\n",
    "##### Метод моментов\n",
    "\n",
    "$E\\xi = \\frac{1}{\\lambda} \\Rightarrow \\lambda = \\frac{1}{E\\xi}$ "
   ]
  },
  {
   "cell_type": "code",
   "execution_count": 19,
   "id": "b11b7ae5",
   "metadata": {},
   "outputs": [
    {
     "name": "stdout",
     "output_type": "stream",
     "text": [
      "Параметр lambda: 1.4961684654360452\n"
     ]
    }
   ],
   "source": [
    "lam1 = 1/rv_realization.mean()\n",
    "print(f'Параметр lambda: {lam1}')"
   ]
  },
  {
   "cell_type": "code",
   "execution_count": 20,
   "id": "3c842d1f",
   "metadata": {},
   "outputs": [],
   "source": [
    "\n",
    "counts2 = [ stats.expon.cdf(bins[i+1], scale=1/lam1) - stats.expon.cdf(bins[i], scale=1/lam1) for i in range(len(bins)-1)]\n",
    "\n",
    "counts2.append(1 - sum(counts2))\n",
    "counts2 = np.array(counts2, dtype='float64')"
   ]
  },
  {
   "cell_type": "code",
   "execution_count": 21,
   "id": "96a0446c",
   "metadata": {},
   "outputs": [
    {
     "name": "stdout",
     "output_type": "stream",
     "text": [
      "Статистика хи-кватрат: 2.410208800533888e-05\n",
      "pvalue: 1.0\n"
     ]
    }
   ],
   "source": [
    "svalue, pvalue = stats.chisquare(f_obs=counts, f_exp=counts2)\n",
    "print(f\"Статистика хи-кватрат: {svalue}\\npvalue: {pvalue}\")"
   ]
  },
  {
   "cell_type": "code",
   "execution_count": 22,
   "id": "a23b7a8e",
   "metadata": {},
   "outputs": [
    {
     "name": "stdout",
     "output_type": "stream",
     "text": [
      "Статистика хи-кватрат: 24.10208800533888\n",
      "pvalue: 0.954374761068423\n"
     ]
    }
   ],
   "source": [
    "pvalue, svalue = my_chisquare(f_obs=counts, f_exp=counts2, size=size)\n",
    "print(f\"Статистика хи-кватрат: {svalue}\\npvalue: {pvalue}\")"
   ]
  },
  {
   "cell_type": "markdown",
   "id": "d0313e52",
   "metadata": {},
   "source": [
    "##### Метод максимального правдоподобия"
   ]
  },
  {
   "cell_type": "code",
   "execution_count": 23,
   "id": "c8c1c67d",
   "metadata": {},
   "outputs": [
    {
     "name": "stdout",
     "output_type": "stream",
     "text": [
      "Параметр lambda: 1.5089652591983855\n"
     ]
    }
   ],
   "source": [
    "def func(x, rv_realization):\n",
    "    res = 0.0\n",
    "    for rv in rv_realization:\n",
    "        res += np.log(stats.expon.pdf(x=rv, scale=1/x[0]))\n",
    "    return -res\n",
    "    \n",
    "res = optimize.minimize(func, [lam1], (rv_realization[:10000]))\n",
    "lam2 = res.x[0]\n",
    "print(f'Параметр lambda: {lam2}')"
   ]
  },
  {
   "cell_type": "code",
   "execution_count": 24,
   "id": "c0adf432",
   "metadata": {},
   "outputs": [],
   "source": [
    "\n",
    "counts3 = [ stats.expon.cdf(bins[i+1], scale=1/lam2) - stats.expon.cdf(bins[i], scale=1/lam2) for i in range(len(bins)-1)]\n",
    "\n",
    "counts3.append(1 - sum(counts3))\n",
    "counts3 = np.array(counts3, dtype='float64')"
   ]
  },
  {
   "cell_type": "code",
   "execution_count": 25,
   "id": "bbd6f9cf",
   "metadata": {},
   "outputs": [
    {
     "name": "stdout",
     "output_type": "stream",
     "text": [
      "Статистика хи-кватрат: 0.00010018966853831829\n",
      "pvalue: 1.0\n"
     ]
    }
   ],
   "source": [
    "svalue, pvalue = stats.chisquare(f_obs=counts, f_exp=counts3)\n",
    "print(f\"Статистика хи-кватрат: {svalue}\\npvalue: {pvalue}\")"
   ]
  },
  {
   "cell_type": "code",
   "execution_count": 32,
   "id": "87cd4281",
   "metadata": {},
   "outputs": [
    {
     "name": "stdout",
     "output_type": "stream",
     "text": [
      "Статистика хи-кватрат: 100.18966853831829\n",
      "pvalue: 0.9999999993694018\n"
     ]
    }
   ],
   "source": [
    "pvalue, svalue = my_chisquare(f_obs=counts, f_exp=counts3, size=size)\n",
    "print(f\"Статистика хи-кватрат: {svalue}\\npvalue: {pvalue}\")"
   ]
  },
  {
   "cell_type": "markdown",
   "id": "d0e36106",
   "metadata": {},
   "source": [
    "#### Гистограмма"
   ]
  },
  {
   "cell_type": "code",
   "execution_count": 28,
   "id": "6b0a2db6",
   "metadata": {},
   "outputs": [
    {
     "data": {
      "image/png": "[encoded data removed]",
      "text/plain": [
       "<Figure size 1440x720 with 1 Axes>"
      ]
     },
     "metadata": {
      "needs_background": "light"
     },
     "output_type": "display_data"
    }
   ],
   "source": [
    "plt.figure().set_size_inches(20, 10)\n",
    "plt.title('Гистограмма промоделированной сл. величины', fontsize=21)\n",
    "space = np.linspace(bins[0], bins[-1])\n",
    "\n",
    "plt.plot(space, [stats.expon.pdf(i, scale=1/lam) for i in space], '-.', label=f'original lambda={lam}')\n",
    "plt.plot(space, [stats.expon.pdf(i, scale=1/lam1) for i in space], '-.', label=f'Метод моментов lambda={lam1}')\n",
    "plt.plot(space, [stats.expon.pdf(i, scale=1/lam2) for i in space], '-.', label=f'Метод наибольшего правдоподобия lambda={lam2}')\n",
    "plt.xticks(bins)\n",
    "plt.hist(bins[:-1], weights=counts[:-1])\n",
    "plt.legend()\n",
    "plt.show()"
   ]
  },
  {
   "cell_type": "code",
   "execution_count": null,
   "id": "9cca9a9d",
   "metadata": {},
   "outputs": [],
   "source": []
  }
 ],
 "metadata": {
  "kernelspec": {
   "display_name": "Python 3 (ipykernel)",
   "language": "python",
   "name": "python3"
  },
  "language_info": {
   "codemirror_mode": {
    "name": "ipython",
    "version": 3
   },
   "file_extension": ".py",
   "mimetype": "text/x-python",
   "name": "python",
   "nbconvert_exporter": "python",
   "pygments_lexer": "ipython3",
   "version": "3.10.8"
  }
 },
 "nbformat": 4,
 "nbformat_minor": 5
}
